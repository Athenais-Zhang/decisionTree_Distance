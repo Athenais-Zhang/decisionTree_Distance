{
 "cells": [
  {
   "cell_type": "code",
   "execution_count": 1,
   "metadata": {},
   "outputs": [],
   "source": [
    "import numpy as np\n",
    "from tqdm.auto import tqdm\n",
    "\n",
    "import testDatasetUtils as tdu\n",
    "\n",
    "import warnings\n",
    "warnings.filterwarnings(\"ignore\")"
   ]
  },
  {
   "cell_type": "code",
   "execution_count": 2,
   "metadata": {},
   "outputs": [],
   "source": [
    "import os\n",
    "\n",
    "\n",
    "IFPrint = False\n",
    "max_iter=10\n",
    "\n",
    "def write_acc(fileName,dataSetName,acc):\n",
    "\n",
    "    accWrite = []\n",
    "    # 判断acc中是否包含某个key\n",
    "    if 'myTree_mc' in acc.keys() and len(acc['myTree_mc']) != 0:\n",
    "        accWrite.append(format(np.mean(acc['myTree_mc']),'.3f'))\n",
    "    if 'T_median' in acc.keys() and len(acc['T_median']) != 0:\n",
    "        accWrite.append(format(np.mean(acc['T_median']),'.3f'))\n",
    "    if 'T_mean' in acc.keys() and len(acc['T_mean']) != 0:\n",
    "        accWrite.append(format(np.mean(acc['T_mean']),'.3f'))\n",
    "    if 'standard' in acc.keys() and len(acc['standard']) != 0:\n",
    "        accWrite.append(format(np.mean(acc['standard']),'.3f'))\n",
    "    if 'nearestCentroid' in acc.keys() and len(acc['nearestCentroid']) != 0:\n",
    "        accWrite.append(format(np.mean(acc['nearestCentroid']),'.3f'))\n",
    "    if 'myTree_mc_rank' in acc.keys() and len(acc['myTree_mc_rank']) != 0:\n",
    "        accWrite.append(format(np.mean(acc['myTree_mc_rank']),'.3f'))\n",
    "    if 'T_median_rank' in acc.keys() and len(acc['T_median_rank']) != 0:\n",
    "        accWrite.append(format(np.mean(acc['T_median_rank']),'.3f'))\n",
    "    if 'myTree_mc_lcs' in acc.keys() and len(acc['myTree_mc_lcs']) != 0:\n",
    "        accWrite.append(format(np.mean(acc['myTree_mc_lcs']),'.3f'))\n",
    "    if 'T_median_lcs' in acc.keys() and len(acc['T_median_lcs']) != 0:\n",
    "        accWrite.append(format(np.mean(acc['T_median_lcs']),'.3f'))\n",
    "    if 'myTree_mc_edit' in acc.keys() and len(acc['myTree_mc_edit']) != 0:\n",
    "        accWrite.append(format(np.mean(acc['myTree_mc_edit']),'.3f'))\n",
    "    if 'T_median_edit' in acc.keys() and len(acc['T_median_edit']) != 0:\n",
    "        accWrite.append(format(np.mean(acc['T_median_edit']),'.3f'))\n",
    "\n",
    "\n",
    "    # 如果文件中还没有数据，就写入数据，如果有数据，向后追加数据\n",
    "    if not os.path.exists(fileName):\n",
    "        with open(fileName, 'w') as f:\n",
    "            f.write('%s,'%(dataSetName))\n",
    "            f.write(','.join(accWrite))\n",
    "    else:\n",
    "        with open(fileName, 'a+') as f:\n",
    "            f.write('%s,'%(dataSetName))\n",
    "            f.write(','.join(accWrite))\n",
    "            \n",
    "    #向文件中添加空行\n",
    "    with open(fileName, 'a+') as f:\n",
    "        f.write('\\n')"
   ]
  },
  {
   "cell_type": "code",
   "execution_count": null,
   "metadata": {},
   "outputs": [],
   "source": [
    "#清空a文件的内容，如果a文件不存在，则跳过\n",
    "def clear_acc(fileName):\n",
    "    if os.path.exists(fileName):\n",
    "        with open(fileName, 'w') as f:\n",
    "            f.write('')\n",
    "\n",
    "clear_acc('result_numerical.txt')\n",
    "clear_acc('result_categorical.txt')\n",
    "clear_acc('result_sequence.txt')"
   ]
  },
  {
   "attachments": {},
   "cell_type": "markdown",
   "metadata": {},
   "source": [
    "# 数据测试"
   ]
  },
  {
   "attachments": {},
   "cell_type": "markdown",
   "metadata": {},
   "source": [
    "## numerical数据集"
   ]
  },
  {
   "cell_type": "code",
   "execution_count": null,
   "metadata": {},
   "outputs": [],
   "source": [
    "numericalFileNames=[\n",
    "    'appendicitis',\n",
    "    'bands',\n",
    "    'banknote_authentication',\n",
    "    'breast_cancer',\n",
    "    'ecoli',\n",
    "    'glass',\n",
    "    'haberman',\n",
    "    'ionosphere',\n",
    "    'iris',\n",
    "    'movement_libras',\n",
    "    'newthyroid',\n",
    "    'page_block',\n",
    "    'penbased',\n",
    "    'pima',\n",
    "    'ring',\n",
    "    'satimage',\n",
    "    'segment',\n",
    "    'sonar',\n",
    "    'spambase',\n",
    "    'texture',\n",
    "    'twonorm',\n",
    "    'wdbc',\n",
    "    'wine',\n",
    "    'winequality-white',\n",
    "    'winequality-red'\n",
    "]\n",
    "\n",
    "def test_numerical(fileName):\n",
    "    if fileName==numericalFileNames[0]:\n",
    "        return tdu.testNumericalDatasetUtils.test_appendicitis()\n",
    "    elif fileName==numericalFileNames[1]:\n",
    "        return tdu.testNumericalDatasetUtils.test_bands()\n",
    "    elif fileName==numericalFileNames[2]:\n",
    "        return tdu.testNumericalDatasetUtils.test_banknote_authentication()\n",
    "    elif fileName==numericalFileNames[3]:\n",
    "        return tdu.testNumericalDatasetUtils.test_breast_cancer()\n",
    "    elif fileName==numericalFileNames[4]:\n",
    "        return tdu.testNumericalDatasetUtils.test_ecoli()\n",
    "    elif fileName==numericalFileNames[5]:\n",
    "        return tdu.testNumericalDatasetUtils.test_glass()\n",
    "    elif fileName==numericalFileNames[6]:\n",
    "        return tdu.testNumericalDatasetUtils.test_haberman()\n",
    "    elif fileName==numericalFileNames[7]:\n",
    "        return tdu.testNumericalDatasetUtils.test_ionosphere()\n",
    "    elif fileName==numericalFileNames[8]:\n",
    "        return tdu.testNumericalDatasetUtils.test_iris()\n",
    "    elif fileName==numericalFileNames[9]:\n",
    "        return tdu.testNumericalDatasetUtils.test_movement_libras()\n",
    "    elif fileName==numericalFileNames[10]:\n",
    "        return tdu.testNumericalDatasetUtils.test_newthyroid()\n",
    "    elif fileName==numericalFileNames[11]:\n",
    "        return tdu.testNumericalDatasetUtils.test_page_block()\n",
    "    elif fileName==numericalFileNames[12]:\n",
    "        return tdu.testNumericalDatasetUtils.test_penbased()\n",
    "    elif fileName==numericalFileNames[13]:\n",
    "        return tdu.testNumericalDatasetUtils.test_pima()\n",
    "    elif fileName==numericalFileNames[14]:\n",
    "        return tdu.testNumericalDatasetUtils.test_ring()\n",
    "    elif fileName==numericalFileNames[15]:\n",
    "        return tdu.testNumericalDatasetUtils.test_satimage()\n",
    "    elif fileName==numericalFileNames[16]:\n",
    "        return tdu.testNumericalDatasetUtils.test_segment()\n",
    "    elif fileName==numericalFileNames[17]:\n",
    "        return tdu.testNumericalDatasetUtils.test_sonar()\n",
    "    elif fileName==numericalFileNames[18]:\n",
    "        return tdu.testNumericalDatasetUtils.test_spambase()\n",
    "    elif fileName==numericalFileNames[19]:\n",
    "        return tdu.testNumericalDatasetUtils.test_texture()\n",
    "    elif fileName==numericalFileNames[20]:\n",
    "        return tdu.testNumericalDatasetUtils.test_twonorm()\n",
    "    elif fileName==numericalFileNames[21]:\n",
    "        return tdu.testNumericalDatasetUtils.test_wdbc()\n",
    "    elif fileName==numericalFileNames[22]:\n",
    "        return tdu.testNumericalDatasetUtils.test_wine()\n",
    "    elif fileName==numericalFileNames[23]:\n",
    "        return tdu.testNumericalDatasetUtils.test_Wine_Quality_white()\n",
    "    elif fileName==numericalFileNames[24]:\n",
    "        return tdu.testNumericalDatasetUtils.test_Wine_Quality_red()\n",
    "\n",
    "def test_average_numerical(fileName):\n",
    "    accTotal = {'myTree_mc':[],'T_median':[],'T_mean':[],'standard': [], 'nearestCentroid': []}\n",
    "    for i in tqdm(range(0, max_iter)):\n",
    "        res = test_numerical(fileName)\n",
    "    \n",
    "        if len(res['myTree_mc']) != 0:\n",
    "            accTotal['myTree_mc'].append(np.mean(res['myTree_mc']))\n",
    "        if len(res['T_median']) != 0:\n",
    "            accTotal['T_median'].append(np.mean(res['T_median']))\n",
    "        if len(res['T_mean']) != 0:\n",
    "            accTotal['T_mean'].append(np.mean(res['T_mean']))\n",
    "        if len(res['standard']) != 0:\n",
    "            accTotal['standard'].append(np.mean(res['standard']))\n",
    "        if len(res['nearestCentroid']) != 0:\n",
    "            accTotal['nearestCentroid'].append(np.mean(res['nearestCentroid']))\n",
    "\n",
    "    \n",
    "    if len(accTotal['myTree_mc']) != 0:\n",
    "        print('average-myTree_mc: %.3f' % (np.mean(accTotal['myTree_mc'])))\n",
    "    if len(accTotal['T_median']) != 0:\n",
    "        print('average-T_median: %.3f' % (np.mean(accTotal['T_median'])))\n",
    "    if len(accTotal['T_mean']) != 0:\n",
    "        print('average-T_mean: %.3f' % (np.mean(accTotal['T_mean'])))\n",
    "    if len(accTotal['standard']) != 0:\n",
    "        print('average-standard: %.3f' % (np.mean(accTotal['standard'])))\n",
    "    if len(accTotal['nearestCentroid']) != 0:\n",
    "        print('average-nearestCentroid: %.3f' % (np.mean(accTotal['nearestCentroid'])))\n",
    "    return accTotal\n",
    "    "
   ]
  },
  {
   "cell_type": "code",
   "execution_count": null,
   "metadata": {},
   "outputs": [],
   "source": [
    "for fileName in numericalFileNames:\n",
    "    print(fileName)\n",
    "    accTotal=test_average_numerical(fileName)\n",
    "    write_acc('result_numerical.txt', fileName,accTotal)\n",
    "    print('\\n')"
   ]
  },
  {
   "attachments": {},
   "cell_type": "markdown",
   "metadata": {},
   "source": [
    "## categorical数据集"
   ]
  },
  {
   "cell_type": "code",
   "execution_count": null,
   "metadata": {},
   "outputs": [],
   "source": [
    "categoricalFileNames=[\n",
    "    'assistant_evaluation',\n",
    "    'balance_scale',\n",
    "    'breast_cancer_wisconsin',\n",
    "    'car',\n",
    "    'chess',\n",
    "    'credit_approval',\n",
    "    'dermatology',\n",
    "    'dna_promoter',\n",
    "    'hayes_roth',\n",
    "    'heart_disease',\n",
    "    'house_votes',\n",
    "    'lecturer_evaluation',\n",
    "    'lenses',\n",
    "    'lung_cancer',\n",
    "    'lymphography',\n",
    "    'mammographic_mass',\n",
    "    'mushroom',\n",
    "    'nursery',\n",
    "    'photo_evaluation',\n",
    "    'primary_tumor',\n",
    "    'solar_flare',\n",
    "    'soybean_small',\n",
    "    'tic_tac_toe',\n",
    "    'titanic',\n",
    "    'zoo'\n",
    "]\n",
    "\n",
    "def test_categorical(fileName):\n",
    "    if fileName==categoricalFileNames[0]:\n",
    "        return tdu.testCategoricalDatasetUtils.test_assistant_evaluation()\n",
    "    elif fileName==categoricalFileNames[1]:\n",
    "        return tdu.testCategoricalDatasetUtils.test_balance_scale()\n",
    "    elif fileName==categoricalFileNames[2]:\n",
    "        return tdu.testCategoricalDatasetUtils.test_breast_cancer_wisconsin()\n",
    "    elif fileName==categoricalFileNames[3]:\n",
    "        return tdu.testCategoricalDatasetUtils.test_car()\n",
    "    elif fileName==categoricalFileNames[4]:\n",
    "        return tdu.testCategoricalDatasetUtils.test_chess()\n",
    "    elif fileName==categoricalFileNames[5]:\n",
    "        return tdu.testCategoricalDatasetUtils.test_credit_approval()\n",
    "    elif fileName==categoricalFileNames[6]:\n",
    "        return tdu.testCategoricalDatasetUtils.test_dermatology()\n",
    "    elif fileName==categoricalFileNames[7]:\n",
    "        return tdu.testCategoricalDatasetUtils.test_dna_promoter()\n",
    "    elif fileName==categoricalFileNames[8]:\n",
    "        return tdu.testCategoricalDatasetUtils.test_hayes_roth()\n",
    "    elif fileName==categoricalFileNames[9]:\n",
    "        return tdu.testCategoricalDatasetUtils.test_heart_disease()\n",
    "    elif fileName==categoricalFileNames[10]:\n",
    "        return tdu.testCategoricalDatasetUtils.test_house_votes()\n",
    "    elif fileName==categoricalFileNames[11]:\n",
    "        return tdu.testCategoricalDatasetUtils.test_lecturer_evaluation()\n",
    "    elif fileName==categoricalFileNames[12]:\n",
    "        return tdu.testCategoricalDatasetUtils.test_lenses()\n",
    "    elif fileName==categoricalFileNames[13]:\n",
    "        return tdu.testCategoricalDatasetUtils.test_lung_cancer()\n",
    "    elif fileName==categoricalFileNames[14]:\n",
    "        return tdu.testCategoricalDatasetUtils.test_lymphography()\n",
    "    elif fileName==categoricalFileNames[15]:\n",
    "        return tdu.testCategoricalDatasetUtils.test_mammographic_mass()\n",
    "    elif fileName==categoricalFileNames[16]:\n",
    "        return tdu.testCategoricalDatasetUtils.test_mushroom()\n",
    "    elif fileName==categoricalFileNames[17]:\n",
    "        return tdu.testCategoricalDatasetUtils.test_nursery()\n",
    "    elif fileName==categoricalFileNames[18]:\n",
    "        return tdu.testCategoricalDatasetUtils.test_photo_evaluation()\n",
    "    elif fileName==categoricalFileNames[19]:\n",
    "        return tdu.testCategoricalDatasetUtils.test_primary_tumor()\n",
    "    elif fileName==categoricalFileNames[20]:\n",
    "        return tdu.testCategoricalDatasetUtils.test_solar_flare()\n",
    "    elif fileName==categoricalFileNames[21]:\n",
    "        return tdu.testCategoricalDatasetUtils.test_soybean_small()\n",
    "    elif fileName==categoricalFileNames[22]:\n",
    "        return tdu.testCategoricalDatasetUtils.test_tic_tac_toe()\n",
    "    elif fileName==categoricalFileNames[23]:\n",
    "        return tdu.testCategoricalDatasetUtils.test_titanic()\n",
    "    elif fileName==categoricalFileNames[24]:\n",
    "        return tdu.testCategoricalDatasetUtils.test_zoo()\n",
    "    \n",
    "\n",
    "def test_average_categorical(fileName):\n",
    "    accTotal = {'myTree_mc':[],'T_median':[],'T_mean':[],'standard': [], 'nearestCentroid': []}\n",
    "    for i in tqdm(range(0, max_iter)):\n",
    "        res = test_categorical(fileName)\n",
    "    \n",
    "        if len(res['myTree_mc']) != 0:\n",
    "            accTotal['myTree_mc'].append(np.mean(res['myTree_mc']))\n",
    "        if len(res['T_median']) != 0:\n",
    "            accTotal['T_median'].append(np.mean(res['T_median']))\n",
    "        if len(res['T_mean']) != 0:\n",
    "            accTotal['T_mean'].append(np.mean(res['T_mean']))\n",
    "        if len(res['standard']) != 0:\n",
    "            accTotal['standard'].append(np.mean(res['standard']))\n",
    "        if len(res['nearestCentroid']) != 0:\n",
    "            accTotal['nearestCentroid'].append(np.mean(res['nearestCentroid']))\n",
    "\n",
    "    \n",
    "    if len(accTotal['myTree_mc']) != 0:\n",
    "        print('average-myTree_mc: %.3f' % (np.mean(accTotal['myTree_mc'])))\n",
    "    if len(accTotal['T_median']) != 0:\n",
    "        print('average-T_median: %.3f' % (np.mean(accTotal['T_median'])))\n",
    "    if len(accTotal['T_mean']) != 0:\n",
    "        print('average-T_mean: %.3f' % (np.mean(accTotal['T_mean'])))\n",
    "    if len(accTotal['standard']) != 0:\n",
    "        print('average-standard: %.3f' % (np.mean(accTotal['standard'])))\n",
    "    if len(accTotal['nearestCentroid']) != 0:\n",
    "        print('average-nearestCentroid: %.3f' % (np.mean(accTotal['nearestCentroid'])))\n",
    "\n",
    "    return accTotal"
   ]
  },
  {
   "cell_type": "code",
   "execution_count": null,
   "metadata": {},
   "outputs": [],
   "source": [
    "for fileName in categoricalFileNames:\n",
    "    print(fileName)\n",
    "    accTotal=test_average_categorical(fileName)\n",
    "    write_acc('result_categorical.txt', fileName,accTotal)\n",
    "    print('\\n')"
   ]
  },
  {
   "attachments": {},
   "cell_type": "markdown",
   "metadata": {},
   "source": [
    "## sequence数据集"
   ]
  },
  {
   "cell_type": "code",
   "execution_count": 3,
   "metadata": {},
   "outputs": [],
   "source": [
    "sequenceFileNames = [\n",
    "    'aslbu',\n",
    "    'auslan2',\n",
    "    'context',\n",
    "    'epitope',\n",
    "    'gene',\n",
    "    'pioneer',\n",
    "    'question',\n",
    "    'reuters',\n",
    "    'robot',\n",
    "    'skating',\n",
    "    'unix'\n",
    "]\n",
    "fileFolderNames = [\"../dataset/sequence/\"]\n",
    "\n",
    "def test_sequence(fileName):\n",
    "    if fileName==sequenceFileNames[0]:\n",
    "        return tdu.testSequenceDatasetUtils.test_aslbu()\n",
    "    elif fileName==sequenceFileNames[1]:\n",
    "        return tdu.testSequenceDatasetUtils.test_auslan2()\n",
    "    elif fileName==sequenceFileNames[2]:\n",
    "        return tdu.testSequenceDatasetUtils.test_context()\n",
    "    elif fileName==sequenceFileNames[3]:\n",
    "        return tdu.testSequenceDatasetUtils.test_epitope()\n",
    "    elif fileName==sequenceFileNames[4]:\n",
    "        return tdu.testSequenceDatasetUtils.test_gene()\n",
    "    elif fileName==sequenceFileNames[5]:\n",
    "        return tdu.testSequenceDatasetUtils.test_pioneer()\n",
    "    elif fileName==sequenceFileNames[6]:\n",
    "        return tdu.testSequenceDatasetUtils.test_question()\n",
    "    elif fileName==sequenceFileNames[7]:\n",
    "        return tdu.testSequenceDatasetUtils.test_reuters()\n",
    "    elif fileName==sequenceFileNames[8]:\n",
    "        return tdu.testSequenceDatasetUtils.test_robot()\n",
    "    elif fileName==sequenceFileNames[9]:\n",
    "        return tdu.testSequenceDatasetUtils.test_skating()\n",
    "    elif fileName==sequenceFileNames[10]:\n",
    "        return tdu.testSequenceDatasetUtils.test_unix()\n",
    "\n",
    "def test_average_sequence(fileName):\n",
    "    accTotal = {'myTree_mc_rank':[],'T_median_rank':[],'myTree_mc_edit':[],'T_median_edit': []}\n",
    "    for i in tqdm(range(0, max_iter)):\n",
    "        res = test_sequence(fileName)\n",
    "\n",
    "        for key in accTotal.keys():\n",
    "            if len(res[key]) != 0:\n",
    "                accTotal[key].append(np.mean(res[key]))\n",
    "\n",
    "    for key in accTotal.keys():\n",
    "        if len(accTotal[key]) != 0:\n",
    "            print('average-%s: %.3f' % (key, np.mean(accTotal[key])))\n",
    "\n",
    "    return accTotal"
   ]
  },
  {
   "cell_type": "code",
   "execution_count": null,
   "metadata": {},
   "outputs": [],
   "source": [
    "for fileName in sequenceFileNames:\n",
    "    print(fileName)\n",
    "    accTotal=test_average_sequence(fileName)\n",
    "    write_acc('result_sequence.txt', fileName,accTotal)\n",
    "    print('\\n')"
   ]
  },
  {
   "cell_type": "code",
   "execution_count": 4,
   "metadata": {},
   "outputs": [
    {
     "name": "stdout",
     "output_type": "stream",
     "text": [
      "aslbu\n"
     ]
    },
    {
     "data": {
      "application/vnd.jupyter.widget-view+json": {
       "model_id": "71a2d0c78596484bb9c1b6eb8b678ba4",
       "version_major": 2,
       "version_minor": 0
      },
      "text/plain": [
       "  0%|          | 0/10 [00:00<?, ?it/s]"
      ]
     },
     "metadata": {},
     "output_type": "display_data"
    },
    {
     "name": "stdout",
     "output_type": "stream",
     "text": [
      "average-myTree_mc_edit: 0.419\n",
      "average-T_median_edit: 0.427\n",
      "\n",
      "\n",
      "auslan2\n"
     ]
    },
    {
     "data": {
      "application/vnd.jupyter.widget-view+json": {
       "model_id": "1beaf1f6c54a42b4a7a0cb935f00cd10",
       "version_major": 2,
       "version_minor": 0
      },
      "text/plain": [
       "  0%|          | 0/10 [00:00<?, ?it/s]"
      ]
     },
     "metadata": {},
     "output_type": "display_data"
    },
    {
     "name": "stdout",
     "output_type": "stream",
     "text": [
      "average-myTree_mc_edit: 0.111\n",
      "average-T_median_edit: 0.183\n",
      "\n",
      "\n",
      "context\n"
     ]
    },
    {
     "data": {
      "application/vnd.jupyter.widget-view+json": {
       "model_id": "527d821d9b684e86bc670bbc994aa0fa",
       "version_major": 2,
       "version_minor": 0
      },
      "text/plain": [
       "  0%|          | 0/10 [00:00<?, ?it/s]"
      ]
     },
     "metadata": {},
     "output_type": "display_data"
    },
    {
     "name": "stdout",
     "output_type": "stream",
     "text": [
      "average-myTree_mc_edit: 0.771\n",
      "average-T_median_edit: 0.775\n",
      "\n",
      "\n",
      "epitope\n"
     ]
    },
    {
     "data": {
      "application/vnd.jupyter.widget-view+json": {
       "model_id": "ad69ea43dd2c4778b932f327067fcde1",
       "version_major": 2,
       "version_minor": 0
      },
      "text/plain": [
       "  0%|          | 0/10 [00:00<?, ?it/s]"
      ]
     },
     "metadata": {},
     "output_type": "display_data"
    },
    {
     "name": "stdout",
     "output_type": "stream",
     "text": [
      "average-myTree_mc_edit: 0.818\n",
      "average-T_median_edit: 0.804\n",
      "\n",
      "\n",
      "gene\n"
     ]
    },
    {
     "data": {
      "application/vnd.jupyter.widget-view+json": {
       "model_id": "ce053299d5f04ad0a8a1f53faafc87d8",
       "version_major": 2,
       "version_minor": 0
      },
      "text/plain": [
       "  0%|          | 0/10 [00:00<?, ?it/s]"
      ]
     },
     "metadata": {},
     "output_type": "display_data"
    },
    {
     "name": "stdout",
     "output_type": "stream",
     "text": [
      "average-myTree_mc_edit: 0.998\n",
      "average-T_median_edit: 0.994\n",
      "\n",
      "\n",
      "pioneer\n"
     ]
    },
    {
     "data": {
      "application/vnd.jupyter.widget-view+json": {
       "model_id": "9203e06116be4161b79df2b1d539226c",
       "version_major": 2,
       "version_minor": 0
      },
      "text/plain": [
       "  0%|          | 0/10 [00:00<?, ?it/s]"
      ]
     },
     "metadata": {},
     "output_type": "display_data"
    },
    {
     "name": "stdout",
     "output_type": "stream",
     "text": [
      "average-myTree_mc_edit: 0.834\n",
      "average-T_median_edit: 0.839\n",
      "\n",
      "\n",
      "question\n"
     ]
    },
    {
     "data": {
      "application/vnd.jupyter.widget-view+json": {
       "model_id": "6bab58d2b79a433a809c7373e0eee3e8",
       "version_major": 2,
       "version_minor": 0
      },
      "text/plain": [
       "  0%|          | 0/10 [00:00<?, ?it/s]"
      ]
     },
     "metadata": {},
     "output_type": "display_data"
    },
    {
     "name": "stdout",
     "output_type": "stream",
     "text": [
      "average-myTree_mc_edit: 0.862\n",
      "average-T_median_edit: 0.854\n",
      "\n",
      "\n",
      "reuters\n"
     ]
    },
    {
     "data": {
      "application/vnd.jupyter.widget-view+json": {
       "model_id": "189a021a0a4c4e978e3aa975f6c31c88",
       "version_major": 2,
       "version_minor": 0
      },
      "text/plain": [
       "  0%|          | 0/10 [00:00<?, ?it/s]"
      ]
     },
     "metadata": {},
     "output_type": "display_data"
    },
    {
     "name": "stdout",
     "output_type": "stream",
     "text": [
      "average-myTree_mc_edit: 0.769\n",
      "average-T_median_edit: 0.772\n",
      "\n",
      "\n",
      "robot\n"
     ]
    },
    {
     "data": {
      "application/vnd.jupyter.widget-view+json": {
       "model_id": "c84a78ee288c40159acd6a9481626d5f",
       "version_major": 2,
       "version_minor": 0
      },
      "text/plain": [
       "  0%|          | 0/10 [00:00<?, ?it/s]"
      ]
     },
     "metadata": {},
     "output_type": "display_data"
    },
    {
     "name": "stdout",
     "output_type": "stream",
     "text": [
      "average-myTree_mc_edit: 0.897\n",
      "average-T_median_edit: 0.896\n",
      "\n",
      "\n",
      "skating\n"
     ]
    },
    {
     "data": {
      "application/vnd.jupyter.widget-view+json": {
       "model_id": "578276a34b1f475ca06860878791de75",
       "version_major": 2,
       "version_minor": 0
      },
      "text/plain": [
       "  0%|          | 0/10 [00:00<?, ?it/s]"
      ]
     },
     "metadata": {},
     "output_type": "display_data"
    },
    {
     "name": "stdout",
     "output_type": "stream",
     "text": [
      "average-myTree_mc_edit: 0.238\n",
      "average-T_median_edit: 0.225\n",
      "\n",
      "\n",
      "unix\n"
     ]
    },
    {
     "data": {
      "application/vnd.jupyter.widget-view+json": {
       "model_id": "8393b0cc956549b0ab17c524e2ef2425",
       "version_major": 2,
       "version_minor": 0
      },
      "text/plain": [
       "  0%|          | 0/10 [00:00<?, ?it/s]"
      ]
     },
     "metadata": {},
     "output_type": "display_data"
    },
    {
     "name": "stdout",
     "output_type": "stream",
     "text": [
      "average-myTree_mc_edit: 0.707\n",
      "average-T_median_edit: 0.674\n",
      "\n",
      "\n"
     ]
    }
   ],
   "source": [
    "for fileName in sequenceFileNames:\n",
    "    print(fileName)\n",
    "    accTotal=test_average_sequence(fileName)\n",
    "    write_acc('result_Levenshtein.txt', fileName,accTotal)\n",
    "    print('\\n')"
   ]
  }
 ],
 "metadata": {
  "kernelspec": {
   "display_name": "Python 3",
   "language": "python",
   "name": "python3"
  },
  "language_info": {
   "codemirror_mode": {
    "name": "ipython",
    "version": 3
   },
   "file_extension": ".py",
   "mimetype": "text/x-python",
   "name": "python",
   "nbconvert_exporter": "python",
   "pygments_lexer": "ipython3",
   "version": "3.9.6"
  },
  "orig_nbformat": 4
 },
 "nbformat": 4,
 "nbformat_minor": 2
}
