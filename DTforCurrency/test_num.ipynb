{
 "cells": [
  {
   "cell_type": "code",
   "execution_count": 1,
   "metadata": {},
   "outputs": [],
   "source": [
    "import numpy as np\n",
    "from tqdm.auto import tqdm\n",
    "\n",
    "import testDatasetUtils as tdu\n",
    "\n",
    "import warnings\n",
    "warnings.filterwarnings(\"ignore\")"
   ]
  },
  {
   "cell_type": "code",
   "execution_count": 2,
   "metadata": {},
   "outputs": [],
   "source": [
    "import os\n",
    "\n",
    "\n",
    "IFPrint = False\n",
    "max_iter=10\n",
    "\n",
    "def write_acc(fileName,dataSetName,acc):\n",
    "\n",
    "    accWrite = []\n",
    "    # 判断acc中是否包含某个key\n",
    "    if 'myTree_mc' in acc.keys() and len(acc['myTree_mc']) != 0:\n",
    "        accWrite.append(format(np.mean(acc['myTree_mc']),'.3f'))\n",
    "    if 'T_median' in acc.keys() and len(acc['T_median']) != 0:\n",
    "        accWrite.append(format(np.mean(acc['T_median']),'.3f'))\n",
    "    if 'T_mean' in acc.keys() and len(acc['T_mean']) != 0:\n",
    "        accWrite.append(format(np.mean(acc['T_mean']),'.3f'))\n",
    "    if 'standard' in acc.keys() and len(acc['standard']) != 0:\n",
    "        accWrite.append(format(np.mean(acc['standard']),'.3f'))\n",
    "    if 'nearestCentroid' in acc.keys() and len(acc['nearestCentroid']) != 0:\n",
    "        accWrite.append(format(np.mean(acc['nearestCentroid']),'.3f'))\n",
    "    if 'myTree_mc_rank' in acc.keys() and len(acc['myTree_mc_rank']) != 0:\n",
    "        accWrite.append(format(np.mean(acc['myTree_mc_rank']),'.3f'))\n",
    "    if 'T_median_rank' in acc.keys() and len(acc['T_median_rank']) != 0:\n",
    "        accWrite.append(format(np.mean(acc['T_median_rank']),'.3f'))\n",
    "    if 'myTree_mc_edit' in acc.keys() and len(acc['myTree_mc_edit']) != 0:\n",
    "        accWrite.append(format(np.mean(acc['myTree_mc_edit']),'.3f'))\n",
    "    if 'T_median_edit' in acc.keys() and len(acc['T_median_edit']) != 0:\n",
    "        accWrite.append(format(np.mean(acc['T_median_edit']),'.3f'))\n",
    "\n",
    "\n",
    "    # 如果文件中还没有数据，就写入数据，如果有数据，向后追加数据\n",
    "    if not os.path.exists(fileName):\n",
    "        with open(fileName, 'w') as f:\n",
    "            f.write('%s,'%(dataSetName))\n",
    "            f.write(','.join(accWrite))\n",
    "    else:\n",
    "        with open(fileName, 'a+') as f:\n",
    "            f.write('%s,'%(dataSetName))\n",
    "            f.write(','.join(accWrite))\n",
    "            \n",
    "    #向文件中添加空行\n",
    "    with open(fileName, 'a+') as f:\n",
    "        f.write('\\n')"
   ]
  },
  {
   "cell_type": "code",
   "execution_count": 3,
   "metadata": {},
   "outputs": [],
   "source": [
    "#清空a文件的内容，如果a文件不存在，则跳过\n",
    "def clear_acc(fileName):\n",
    "    if os.path.exists(fileName):\n",
    "        with open(fileName, 'w') as f:\n",
    "            f.write('')\n",
    "\n",
    "clear_acc('result_numerical.txt')\n",
    "clear_acc('result_categorical.txt')\n",
    "clear_acc('result_sequence.txt')"
   ]
  },
  {
   "attachments": {},
   "cell_type": "markdown",
   "metadata": {},
   "source": [
    "# 数据测试"
   ]
  },
  {
   "attachments": {},
   "cell_type": "markdown",
   "metadata": {},
   "source": [
    "## numerical数据集"
   ]
  },
  {
   "cell_type": "code",
   "execution_count": 4,
   "metadata": {},
   "outputs": [],
   "source": [
    "numericalFileNames=[\n",
    "    'appendicitis',\n",
    "    'bands',\n",
    "    'banknote_authentication',\n",
    "    'breast_cancer',\n",
    "    'ecoli',\n",
    "    'glass',\n",
    "    'haberman',\n",
    "    'ionosphere',\n",
    "    'iris',\n",
    "    'movement_libras',\n",
    "    'newthyroid',\n",
    "    'page_block',\n",
    "    'penbased',\n",
    "    'pima',\n",
    "    'ring',\n",
    "    'satimage',\n",
    "    'segment',\n",
    "    'sonar',\n",
    "    'spambase',\n",
    "    'texture',\n",
    "    'twonorm',\n",
    "    'wdbc',\n",
    "    'wine',\n",
    "    'winequality-white',\n",
    "    'winequality-red'\n",
    "]\n",
    "\n",
    "def test_numerical(fileName):\n",
    "    if fileName==numericalFileNames[0]:\n",
    "        return tdu.testNumericalDatasetUtils.test_appendicitis()\n",
    "    elif fileName==numericalFileNames[1]:\n",
    "        return tdu.testNumericalDatasetUtils.test_bands()\n",
    "    elif fileName==numericalFileNames[2]:\n",
    "        return tdu.testNumericalDatasetUtils.test_banknote_authentication()\n",
    "    elif fileName==numericalFileNames[3]:\n",
    "        return tdu.testNumericalDatasetUtils.test_breast_cancer()\n",
    "    elif fileName==numericalFileNames[4]:\n",
    "        return tdu.testNumericalDatasetUtils.test_ecoli()\n",
    "    elif fileName==numericalFileNames[5]:\n",
    "        return tdu.testNumericalDatasetUtils.test_glass()\n",
    "    elif fileName==numericalFileNames[6]:\n",
    "        return tdu.testNumericalDatasetUtils.test_haberman()\n",
    "    elif fileName==numericalFileNames[7]:\n",
    "        return tdu.testNumericalDatasetUtils.test_ionosphere()\n",
    "    elif fileName==numericalFileNames[8]:\n",
    "        return tdu.testNumericalDatasetUtils.test_iris()\n",
    "    elif fileName==numericalFileNames[9]:\n",
    "        return tdu.testNumericalDatasetUtils.test_movement_libras()\n",
    "    elif fileName==numericalFileNames[10]:\n",
    "        return tdu.testNumericalDatasetUtils.test_newthyroid()\n",
    "    elif fileName==numericalFileNames[11]:\n",
    "        return tdu.testNumericalDatasetUtils.test_page_block()\n",
    "    elif fileName==numericalFileNames[12]:\n",
    "        return tdu.testNumericalDatasetUtils.test_penbased()\n",
    "    elif fileName==numericalFileNames[13]:\n",
    "        return tdu.testNumericalDatasetUtils.test_pima()\n",
    "    elif fileName==numericalFileNames[14]:\n",
    "        return tdu.testNumericalDatasetUtils.test_ring()\n",
    "    elif fileName==numericalFileNames[15]:\n",
    "        return tdu.testNumericalDatasetUtils.test_satimage()\n",
    "    elif fileName==numericalFileNames[16]:\n",
    "        return tdu.testNumericalDatasetUtils.test_segment()\n",
    "    elif fileName==numericalFileNames[17]:\n",
    "        return tdu.testNumericalDatasetUtils.test_sonar()\n",
    "    elif fileName==numericalFileNames[18]:\n",
    "        return tdu.testNumericalDatasetUtils.test_spambase()\n",
    "    elif fileName==numericalFileNames[19]:\n",
    "        return tdu.testNumericalDatasetUtils.test_texture()\n",
    "    elif fileName==numericalFileNames[20]:\n",
    "        return tdu.testNumericalDatasetUtils.test_twonorm()\n",
    "    elif fileName==numericalFileNames[21]:\n",
    "        return tdu.testNumericalDatasetUtils.test_wdbc()\n",
    "    elif fileName==numericalFileNames[22]:\n",
    "        return tdu.testNumericalDatasetUtils.test_wine()\n",
    "    elif fileName==numericalFileNames[23]:\n",
    "        return tdu.testNumericalDatasetUtils.test_Wine_Quality_white()\n",
    "    elif fileName==numericalFileNames[24]:\n",
    "        return tdu.testNumericalDatasetUtils.test_Wine_Quality_red()\n",
    "\n",
    "def test_average_numerical(fileName):\n",
    "    accTotal = {'myTree_mc':[],'T_median':[],'T_mean':[],'standard': [], 'nearestCentroid': []}\n",
    "    for i in tqdm(range(0, max_iter)):\n",
    "        res = test_numerical(fileName)\n",
    "    \n",
    "        if len(res['myTree_mc']) != 0:\n",
    "            accTotal['myTree_mc'].append(np.mean(res['myTree_mc']))\n",
    "        if len(res['T_median']) != 0:\n",
    "            accTotal['T_median'].append(np.mean(res['T_median']))\n",
    "        if len(res['T_mean']) != 0:\n",
    "            accTotal['T_mean'].append(np.mean(res['T_mean']))\n",
    "        if len(res['standard']) != 0:\n",
    "            accTotal['standard'].append(np.mean(res['standard']))\n",
    "        if len(res['nearestCentroid']) != 0:\n",
    "            accTotal['nearestCentroid'].append(np.mean(res['nearestCentroid']))\n",
    "\n",
    "    \n",
    "    if len(accTotal['myTree_mc']) != 0:\n",
    "        print('average-myTree_mc: %.3f' % (np.mean(accTotal['myTree_mc'])))\n",
    "    if len(accTotal['T_median']) != 0:\n",
    "        print('average-T_median: %.3f' % (np.mean(accTotal['T_median'])))\n",
    "    if len(accTotal['T_mean']) != 0:\n",
    "        print('average-T_mean: %.3f' % (np.mean(accTotal['T_mean'])))\n",
    "    if len(accTotal['standard']) != 0:\n",
    "        print('average-standard: %.3f' % (np.mean(accTotal['standard'])))\n",
    "    if len(accTotal['nearestCentroid']) != 0:\n",
    "        print('average-nearestCentroid: %.3f' % (np.mean(accTotal['nearestCentroid'])))\n",
    "    return accTotal\n",
    "    "
   ]
  },
  {
   "cell_type": "code",
   "execution_count": 5,
   "metadata": {},
   "outputs": [
    {
     "name": "stdout",
     "output_type": "stream",
     "text": [
      "appendicitis\n"
     ]
    },
    {
     "data": {
      "application/vnd.jupyter.widget-view+json": {
       "model_id": "75ab49dcb8354665a457fc6f2bb5afc5",
       "version_major": 2,
       "version_minor": 0
      },
      "text/plain": [
       "  0%|          | 0/10 [00:00<?, ?it/s]"
      ]
     },
     "metadata": {},
     "output_type": "display_data"
    },
    {
     "name": "stdout",
     "output_type": "stream",
     "text": [
      "average-myTree_mc: 0.809\n",
      "average-T_median: 0.781\n",
      "average-T_mean: 0.800\n",
      "average-standard: 0.800\n",
      "average-nearestCentroid: 0.832\n",
      "\n",
      "\n",
      "bands\n"
     ]
    },
    {
     "data": {
      "application/vnd.jupyter.widget-view+json": {
       "model_id": "a1b467c969a74569962213c256cf7be1",
       "version_major": 2,
       "version_minor": 0
      },
      "text/plain": [
       "  0%|          | 0/10 [00:00<?, ?it/s]"
      ]
     },
     "metadata": {},
     "output_type": "display_data"
    },
    {
     "name": "stdout",
     "output_type": "stream",
     "text": [
      "average-myTree_mc: 0.655\n",
      "average-T_median: 0.652\n",
      "average-T_mean: 0.666\n",
      "average-standard: 0.695\n",
      "average-nearestCentroid: 0.560\n",
      "\n",
      "\n",
      "banknote_authentication\n"
     ]
    },
    {
     "data": {
      "application/vnd.jupyter.widget-view+json": {
       "model_id": "e99692efa2cd49b0a7a7ff6e80e57cfa",
       "version_major": 2,
       "version_minor": 0
      },
      "text/plain": [
       "  0%|          | 0/10 [00:00<?, ?it/s]"
      ]
     },
     "metadata": {},
     "output_type": "display_data"
    },
    {
     "name": "stdout",
     "output_type": "stream",
     "text": [
      "average-myTree_mc: 0.998\n",
      "average-T_median: 0.998\n",
      "average-T_mean: 0.998\n",
      "average-standard: 0.982\n",
      "average-nearestCentroid: 0.706\n",
      "\n",
      "\n",
      "breast_cancer\n"
     ]
    },
    {
     "data": {
      "application/vnd.jupyter.widget-view+json": {
       "model_id": "f618f5b90a014cf4b84e08c7dd623d5c",
       "version_major": 2,
       "version_minor": 0
      },
      "text/plain": [
       "  0%|          | 0/10 [00:00<?, ?it/s]"
      ]
     },
     "metadata": {},
     "output_type": "display_data"
    },
    {
     "name": "stdout",
     "output_type": "stream",
     "text": [
      "average-myTree_mc: 0.910\n",
      "average-T_median: 0.906\n",
      "average-T_mean: 0.912\n",
      "average-standard: 0.927\n",
      "average-nearestCentroid: 0.890\n",
      "\n",
      "\n",
      "ecoli\n"
     ]
    },
    {
     "data": {
      "application/vnd.jupyter.widget-view+json": {
       "model_id": "d9ce86c0c27a4d7688f551413d810062",
       "version_major": 2,
       "version_minor": 0
      },
      "text/plain": [
       "  0%|          | 0/10 [00:00<?, ?it/s]"
      ]
     },
     "metadata": {},
     "output_type": "display_data"
    },
    {
     "name": "stdout",
     "output_type": "stream",
     "text": [
      "average-myTree_mc: 0.733\n",
      "average-T_median: 0.728\n",
      "average-T_mean: 0.737\n",
      "average-standard: 0.769\n",
      "average-nearestCentroid: 0.702\n",
      "\n",
      "\n",
      "glass\n"
     ]
    },
    {
     "data": {
      "application/vnd.jupyter.widget-view+json": {
       "model_id": "11db0e10ff9e4c96bc155ec88ed5abda",
       "version_major": 2,
       "version_minor": 0
      },
      "text/plain": [
       "  0%|          | 0/10 [00:00<?, ?it/s]"
      ]
     },
     "metadata": {},
     "output_type": "display_data"
    },
    {
     "name": "stdout",
     "output_type": "stream",
     "text": [
      "average-myTree_mc: 0.662\n",
      "average-T_median: 0.672\n",
      "average-T_mean: 0.684\n",
      "average-standard: 0.658\n",
      "average-nearestCentroid: 0.436\n",
      "\n",
      "\n",
      "haberman\n"
     ]
    },
    {
     "data": {
      "application/vnd.jupyter.widget-view+json": {
       "model_id": "764098d828e641c9b677933cca0a42b7",
       "version_major": 2,
       "version_minor": 0
      },
      "text/plain": [
       "  0%|          | 0/10 [00:00<?, ?it/s]"
      ]
     },
     "metadata": {},
     "output_type": "display_data"
    },
    {
     "name": "stdout",
     "output_type": "stream",
     "text": [
      "average-myTree_mc: 0.674\n",
      "average-T_median: 0.671\n",
      "average-T_mean: 0.669\n",
      "average-standard: 0.652\n",
      "average-nearestCentroid: 0.692\n",
      "\n",
      "\n",
      "ionosphere\n"
     ]
    },
    {
     "data": {
      "application/vnd.jupyter.widget-view+json": {
       "model_id": "5aa0114d8e6f45a4a558210fa1baa2fa",
       "version_major": 2,
       "version_minor": 0
      },
      "text/plain": [
       "  0%|          | 0/10 [00:00<?, ?it/s]"
      ]
     },
     "metadata": {},
     "output_type": "display_data"
    },
    {
     "name": "stdout",
     "output_type": "stream",
     "text": [
      "average-myTree_mc: 0.876\n",
      "average-T_median: 0.840\n",
      "average-T_mean: 0.874\n",
      "average-standard: 0.885\n",
      "average-nearestCentroid: 0.732\n",
      "\n",
      "\n",
      "iris\n"
     ]
    },
    {
     "data": {
      "application/vnd.jupyter.widget-view+json": {
       "model_id": "aec5979465884cdd93637b826be8c0ff",
       "version_major": 2,
       "version_minor": 0
      },
      "text/plain": [
       "  0%|          | 0/10 [00:00<?, ?it/s]"
      ]
     },
     "metadata": {},
     "output_type": "display_data"
    },
    {
     "name": "stdout",
     "output_type": "stream",
     "text": [
      "average-myTree_mc: 0.952\n",
      "average-T_median: 0.947\n",
      "average-T_mean: 0.960\n",
      "average-standard: 0.949\n",
      "average-nearestCentroid: 0.925\n",
      "\n",
      "\n",
      "movement_libras\n"
     ]
    },
    {
     "data": {
      "application/vnd.jupyter.widget-view+json": {
       "model_id": "de86e225730c4abe9540071cba7ea78f",
       "version_major": 2,
       "version_minor": 0
      },
      "text/plain": [
       "  0%|          | 0/10 [00:00<?, ?it/s]"
      ]
     },
     "metadata": {},
     "output_type": "display_data"
    },
    {
     "name": "stdout",
     "output_type": "stream",
     "text": [
      "average-myTree_mc: 0.762\n",
      "average-T_median: 0.765\n",
      "average-T_mean: 0.782\n",
      "average-standard: 0.674\n",
      "average-nearestCentroid: 0.553\n",
      "\n",
      "\n",
      "newthyroid\n"
     ]
    },
    {
     "data": {
      "application/vnd.jupyter.widget-view+json": {
       "model_id": "88f42c5c1ddf445c807061d7bb4f5495",
       "version_major": 2,
       "version_minor": 0
      },
      "text/plain": [
       "  0%|          | 0/10 [00:00<?, ?it/s]"
      ]
     },
     "metadata": {},
     "output_type": "display_data"
    },
    {
     "name": "stdout",
     "output_type": "stream",
     "text": [
      "average-myTree_mc: 0.932\n",
      "average-T_median: 0.927\n",
      "average-T_mean: 0.926\n",
      "average-standard: 0.940\n",
      "average-nearestCentroid: 0.864\n",
      "\n",
      "\n",
      "page_block\n"
     ]
    },
    {
     "data": {
      "application/vnd.jupyter.widget-view+json": {
       "model_id": "632b074e4a194a9ab73ce184b578467b",
       "version_major": 2,
       "version_minor": 0
      },
      "text/plain": [
       "  0%|          | 0/10 [00:00<?, ?it/s]"
      ]
     },
     "metadata": {},
     "output_type": "display_data"
    },
    {
     "name": "stdout",
     "output_type": "stream",
     "text": [
      "average-myTree_mc: 0.947\n",
      "average-T_median: 0.949\n",
      "average-T_mean: 0.948\n",
      "average-standard: 0.963\n",
      "average-nearestCentroid: 0.290\n",
      "\n",
      "\n",
      "penbased\n"
     ]
    },
    {
     "data": {
      "application/vnd.jupyter.widget-view+json": {
       "model_id": "73f223cebd4e4beb8557a95a898bd1ec",
       "version_major": 2,
       "version_minor": 0
      },
      "text/plain": [
       "  0%|          | 0/10 [00:00<?, ?it/s]"
      ]
     },
     "metadata": {},
     "output_type": "display_data"
    },
    {
     "name": "stdout",
     "output_type": "stream",
     "text": [
      "average-myTree_mc: 0.977\n",
      "average-T_median: 0.980\n",
      "average-T_mean: 0.983\n",
      "average-standard: 0.961\n",
      "average-nearestCentroid: 0.813\n",
      "\n",
      "\n",
      "pima\n"
     ]
    },
    {
     "data": {
      "application/vnd.jupyter.widget-view+json": {
       "model_id": "3760f343833c42c5a5cfe5b704c56b8e",
       "version_major": 2,
       "version_minor": 0
      },
      "text/plain": [
       "  0%|          | 0/10 [00:00<?, ?it/s]"
      ]
     },
     "metadata": {},
     "output_type": "display_data"
    },
    {
     "name": "stdout",
     "output_type": "stream",
     "text": [
      "average-myTree_mc: 0.668\n",
      "average-T_median: 0.658\n",
      "average-T_mean: 0.663\n",
      "average-standard: 0.700\n",
      "average-nearestCentroid: 0.633\n",
      "\n",
      "\n",
      "ring\n"
     ]
    },
    {
     "data": {
      "application/vnd.jupyter.widget-view+json": {
       "model_id": "3ac752c412774b90925ca3c58a526a3c",
       "version_major": 2,
       "version_minor": 0
      },
      "text/plain": [
       "  0%|          | 0/10 [00:00<?, ?it/s]"
      ]
     },
     "metadata": {},
     "output_type": "display_data"
    },
    {
     "name": "stdout",
     "output_type": "stream",
     "text": [
      "average-myTree_mc: 0.874\n",
      "average-T_median: 0.796\n",
      "average-T_mean: 0.809\n",
      "average-standard: 0.873\n",
      "average-nearestCentroid: 0.762\n",
      "\n",
      "\n",
      "satimage\n"
     ]
    },
    {
     "data": {
      "application/vnd.jupyter.widget-view+json": {
       "model_id": "6083ccc133d341c5bf81f3bbe7b763c2",
       "version_major": 2,
       "version_minor": 0
      },
      "text/plain": [
       "  0%|          | 0/10 [00:00<?, ?it/s]"
      ]
     },
     "metadata": {},
     "output_type": "display_data"
    },
    {
     "name": "stdout",
     "output_type": "stream",
     "text": [
      "average-myTree_mc: 0.868\n",
      "average-T_median: 0.866\n",
      "average-T_mean: 0.880\n",
      "average-standard: 0.855\n",
      "average-nearestCentroid: 0.778\n",
      "\n",
      "\n",
      "segment\n"
     ]
    },
    {
     "data": {
      "application/vnd.jupyter.widget-view+json": {
       "model_id": "2b61152e0ebe41a8a5446e6cbd734368",
       "version_major": 2,
       "version_minor": 0
      },
      "text/plain": [
       "  0%|          | 0/10 [00:00<?, ?it/s]"
      ]
     },
     "metadata": {},
     "output_type": "display_data"
    },
    {
     "name": "stdout",
     "output_type": "stream",
     "text": [
      "average-myTree_mc: 0.935\n",
      "average-T_median: 0.936\n",
      "average-T_mean: 0.938\n",
      "average-standard: 0.961\n",
      "average-nearestCentroid: 0.723\n",
      "\n",
      "\n",
      "sonar\n"
     ]
    },
    {
     "data": {
      "application/vnd.jupyter.widget-view+json": {
       "model_id": "c021c107b1294c37a45c24cb0daa8e8d",
       "version_major": 2,
       "version_minor": 0
      },
      "text/plain": [
       "  0%|          | 0/10 [00:00<?, ?it/s]"
      ]
     },
     "metadata": {},
     "output_type": "display_data"
    },
    {
     "name": "stdout",
     "output_type": "stream",
     "text": [
      "average-myTree_mc: 0.786\n",
      "average-T_median: 0.755\n",
      "average-T_mean: 0.794\n",
      "average-standard: 0.721\n",
      "average-nearestCentroid: 0.663\n",
      "\n",
      "\n",
      "spambase\n"
     ]
    },
    {
     "data": {
      "application/vnd.jupyter.widget-view+json": {
       "model_id": "cc34ad10849c4977af028f8888697cc8",
       "version_major": 2,
       "version_minor": 0
      },
      "text/plain": [
       "  0%|          | 0/10 [00:00<?, ?it/s]"
      ]
     },
     "metadata": {},
     "output_type": "display_data"
    },
    {
     "name": "stdout",
     "output_type": "stream",
     "text": [
      "average-myTree_mc: 0.806\n",
      "average-T_median: 0.786\n",
      "average-T_mean: 0.814\n",
      "average-standard: 0.913\n",
      "average-nearestCentroid: 0.678\n",
      "\n",
      "\n",
      "texture\n"
     ]
    },
    {
     "data": {
      "application/vnd.jupyter.widget-view+json": {
       "model_id": "f0e3eaa5d5164038bb2bf5c1051bd89d",
       "version_major": 2,
       "version_minor": 0
      },
      "text/plain": [
       "  0%|          | 0/10 [00:00<?, ?it/s]"
      ]
     },
     "metadata": {},
     "output_type": "display_data"
    },
    {
     "name": "stdout",
     "output_type": "stream",
     "text": [
      "average-myTree_mc: 0.962\n",
      "average-T_median: 0.963\n",
      "average-T_mean: 0.970\n",
      "average-standard: 0.925\n",
      "average-nearestCentroid: 0.761\n",
      "\n",
      "\n",
      "twonorm\n"
     ]
    },
    {
     "data": {
      "application/vnd.jupyter.widget-view+json": {
       "model_id": "71dd96257bd24141ab18664451c2a9ca",
       "version_major": 2,
       "version_minor": 0
      },
      "text/plain": [
       "  0%|          | 0/10 [00:00<?, ?it/s]"
      ]
     },
     "metadata": {},
     "output_type": "display_data"
    },
    {
     "name": "stdout",
     "output_type": "stream",
     "text": [
      "average-myTree_mc: 0.937\n",
      "average-T_median: 0.916\n",
      "average-T_mean: 0.957\n",
      "average-standard: 0.845\n",
      "average-nearestCentroid: 0.978\n",
      "\n",
      "\n",
      "wdbc\n"
     ]
    },
    {
     "data": {
      "application/vnd.jupyter.widget-view+json": {
       "model_id": "c3fdb18dc7814408a6ddda7da8afada5",
       "version_major": 2,
       "version_minor": 0
      },
      "text/plain": [
       "  0%|          | 0/10 [00:00<?, ?it/s]"
      ]
     },
     "metadata": {},
     "output_type": "display_data"
    },
    {
     "name": "stdout",
     "output_type": "stream",
     "text": [
      "average-myTree_mc: 0.910\n",
      "average-T_median: 0.905\n",
      "average-T_mean: 0.909\n",
      "average-standard: 0.927\n",
      "average-nearestCentroid: 0.891\n",
      "\n",
      "\n",
      "wine\n"
     ]
    },
    {
     "data": {
      "application/vnd.jupyter.widget-view+json": {
       "model_id": "aa8ed7b5839f431b8924a6b738cd962a",
       "version_major": 2,
       "version_minor": 0
      },
      "text/plain": [
       "  0%|          | 0/10 [00:00<?, ?it/s]"
      ]
     },
     "metadata": {},
     "output_type": "display_data"
    },
    {
     "name": "stdout",
     "output_type": "stream",
     "text": [
      "average-myTree_mc: 0.741\n",
      "average-T_median: 0.728\n",
      "average-T_mean: 0.708\n",
      "average-standard: 0.907\n",
      "average-nearestCentroid: 0.725\n",
      "\n",
      "\n",
      "winequality-white\n"
     ]
    },
    {
     "data": {
      "application/vnd.jupyter.widget-view+json": {
       "model_id": "703edcea625f4adc8cdcb3307c659302",
       "version_major": 2,
       "version_minor": 0
      },
      "text/plain": [
       "  0%|          | 0/10 [00:00<?, ?it/s]"
      ]
     },
     "metadata": {},
     "output_type": "display_data"
    },
    {
     "name": "stdout",
     "output_type": "stream",
     "text": [
      "average-myTree_mc: 0.560\n",
      "average-T_median: 0.561\n",
      "average-T_mean: 0.565\n",
      "average-standard: 0.607\n",
      "average-nearestCentroid: 0.116\n",
      "\n",
      "\n",
      "winequality-red\n"
     ]
    },
    {
     "data": {
      "application/vnd.jupyter.widget-view+json": {
       "model_id": "609c4457705e4521a310ab2b8a436299",
       "version_major": 2,
       "version_minor": 0
      },
      "text/plain": [
       "  0%|          | 0/10 [00:00<?, ?it/s]"
      ]
     },
     "metadata": {},
     "output_type": "display_data"
    },
    {
     "name": "stdout",
     "output_type": "stream",
     "text": [
      "average-myTree_mc: 0.562\n",
      "average-T_median: 0.555\n",
      "average-T_mean: 0.567\n",
      "average-standard: 0.617\n",
      "average-nearestCentroid: 0.274\n",
      "\n",
      "\n"
     ]
    }
   ],
   "source": [
    "for fileName in numericalFileNames:\n",
    "    print(fileName)\n",
    "    accTotal=test_average_numerical(fileName)\n",
    "    write_acc('result_numerical.txt', fileName,accTotal)\n",
    "    print('\\n')"
   ]
  },
  {
   "attachments": {},
   "cell_type": "markdown",
   "metadata": {},
   "source": [
    "## categorical数据集"
   ]
  },
  {
   "cell_type": "code",
   "execution_count": 6,
   "metadata": {},
   "outputs": [],
   "source": [
    "categoricalFileNames=[\n",
    "    'assistant_evaluation',\n",
    "    'balance_scale',\n",
    "    'breast_cancer_wisconsin',\n",
    "    'car',\n",
    "    'chess',\n",
    "    'credit_approval',\n",
    "    'dermatology',\n",
    "    'dna_promoter',\n",
    "    'hayes_roth',\n",
    "    'heart_disease',\n",
    "    'house_votes',\n",
    "    'lecturer_evaluation',\n",
    "    'lenses',\n",
    "    'lung_cancer',\n",
    "    'lymphography',\n",
    "    'mammographic_mass',\n",
    "    'mushroom',\n",
    "    'nursery',\n",
    "    'photo_evaluation',\n",
    "    'primary_tumor',\n",
    "    'solar_flare',\n",
    "    'soybean_small',\n",
    "    'tic_tac_toe',\n",
    "    'titanic',\n",
    "    'zoo'\n",
    "]\n",
    "\n",
    "def test_categorical(fileName):\n",
    "    if fileName==categoricalFileNames[0]:\n",
    "        return tdu.testCategoricalDatasetUtils.test_assistant_evaluation()\n",
    "    elif fileName==categoricalFileNames[1]:\n",
    "        return tdu.testCategoricalDatasetUtils.test_balance_scale()\n",
    "    elif fileName==categoricalFileNames[2]:\n",
    "        return tdu.testCategoricalDatasetUtils.test_breast_cancer_wisconsin()\n",
    "    elif fileName==categoricalFileNames[3]:\n",
    "        return tdu.testCategoricalDatasetUtils.test_car()\n",
    "    elif fileName==categoricalFileNames[4]:\n",
    "        return tdu.testCategoricalDatasetUtils.test_chess()\n",
    "    elif fileName==categoricalFileNames[5]:\n",
    "        return tdu.testCategoricalDatasetUtils.test_credit_approval()\n",
    "    elif fileName==categoricalFileNames[6]:\n",
    "        return tdu.testCategoricalDatasetUtils.test_dermatology()\n",
    "    elif fileName==categoricalFileNames[7]:\n",
    "        return tdu.testCategoricalDatasetUtils.test_dna_promoter()\n",
    "    elif fileName==categoricalFileNames[8]:\n",
    "        return tdu.testCategoricalDatasetUtils.test_hayes_roth()\n",
    "    elif fileName==categoricalFileNames[9]:\n",
    "        return tdu.testCategoricalDatasetUtils.test_heart_disease()\n",
    "    elif fileName==categoricalFileNames[10]:\n",
    "        return tdu.testCategoricalDatasetUtils.test_house_votes()\n",
    "    elif fileName==categoricalFileNames[11]:\n",
    "        return tdu.testCategoricalDatasetUtils.test_lecturer_evaluation()\n",
    "    elif fileName==categoricalFileNames[12]:\n",
    "        return tdu.testCategoricalDatasetUtils.test_lenses()\n",
    "    elif fileName==categoricalFileNames[13]:\n",
    "        return tdu.testCategoricalDatasetUtils.test_lung_cancer()\n",
    "    elif fileName==categoricalFileNames[14]:\n",
    "        return tdu.testCategoricalDatasetUtils.test_lymphography()\n",
    "    elif fileName==categoricalFileNames[15]:\n",
    "        return tdu.testCategoricalDatasetUtils.test_mammographic_mass()\n",
    "    elif fileName==categoricalFileNames[16]:\n",
    "        return tdu.testCategoricalDatasetUtils.test_mushroom()\n",
    "    elif fileName==categoricalFileNames[17]:\n",
    "        return tdu.testCategoricalDatasetUtils.test_nursery()\n",
    "    elif fileName==categoricalFileNames[18]:\n",
    "        return tdu.testCategoricalDatasetUtils.test_photo_evaluation()\n",
    "    elif fileName==categoricalFileNames[19]:\n",
    "        return tdu.testCategoricalDatasetUtils.test_primary_tumor()\n",
    "    elif fileName==categoricalFileNames[20]:\n",
    "        return tdu.testCategoricalDatasetUtils.test_solar_flare()\n",
    "    elif fileName==categoricalFileNames[21]:\n",
    "        return tdu.testCategoricalDatasetUtils.test_soybean_small()\n",
    "    elif fileName==categoricalFileNames[22]:\n",
    "        return tdu.testCategoricalDatasetUtils.test_tic_tac_toe()\n",
    "    elif fileName==categoricalFileNames[23]:\n",
    "        return tdu.testCategoricalDatasetUtils.test_titanic()\n",
    "    elif fileName==categoricalFileNames[24]:\n",
    "        return tdu.testCategoricalDatasetUtils.test_zoo()\n",
    "    \n",
    "\n",
    "def test_average_categorical(fileName):\n",
    "    accTotal = {'myTree_mc':[],'T_median':[],'T_mean':[],'standard': [], 'nearestCentroid': []}\n",
    "    for i in tqdm(range(0, max_iter)):\n",
    "        res = test_categorical(fileName)\n",
    "    \n",
    "        if len(res['myTree_mc']) != 0:\n",
    "            accTotal['myTree_mc'].append(np.mean(res['myTree_mc']))\n",
    "        if len(res['T_median']) != 0:\n",
    "            accTotal['T_median'].append(np.mean(res['T_median']))\n",
    "        if len(res['T_mean']) != 0:\n",
    "            accTotal['T_mean'].append(np.mean(res['T_mean']))\n",
    "        if len(res['standard']) != 0:\n",
    "            accTotal['standard'].append(np.mean(res['standard']))\n",
    "        if len(res['nearestCentroid']) != 0:\n",
    "            accTotal['nearestCentroid'].append(np.mean(res['nearestCentroid']))\n",
    "\n",
    "    \n",
    "    if len(accTotal['myTree_mc']) != 0:\n",
    "        print('average-myTree_mc: %.3f' % (np.mean(accTotal['myTree_mc'])))\n",
    "    if len(accTotal['T_median']) != 0:\n",
    "        print('average-T_median: %.3f' % (np.mean(accTotal['T_median'])))\n",
    "    if len(accTotal['T_mean']) != 0:\n",
    "        print('average-T_mean: %.3f' % (np.mean(accTotal['T_mean'])))\n",
    "    if len(accTotal['standard']) != 0:\n",
    "        print('average-standard: %.3f' % (np.mean(accTotal['standard'])))\n",
    "    if len(accTotal['nearestCentroid']) != 0:\n",
    "        print('average-nearestCentroid: %.3f' % (np.mean(accTotal['nearestCentroid'])))\n",
    "\n",
    "    return accTotal"
   ]
  },
  {
   "cell_type": "code",
   "execution_count": 7,
   "metadata": {},
   "outputs": [
    {
     "name": "stdout",
     "output_type": "stream",
     "text": [
      "assistant_evaluation\n"
     ]
    },
    {
     "data": {
      "application/vnd.jupyter.widget-view+json": {
       "model_id": "53cb2cd293dc417d9b5b32baa3a05d7f",
       "version_major": 2,
       "version_minor": 0
      },
      "text/plain": [
       "  0%|          | 0/10 [00:00<?, ?it/s]"
      ]
     },
     "metadata": {},
     "output_type": "display_data"
    },
    {
     "name": "stdout",
     "output_type": "stream",
     "text": [
      "average-myTree_mc: 0.727\n",
      "average-T_median: 0.743\n",
      "average-T_mean: 0.711\n",
      "average-standard: 0.817\n",
      "average-nearestCentroid: 0.668\n",
      "\n",
      "\n",
      "balance_scale\n"
     ]
    },
    {
     "data": {
      "application/vnd.jupyter.widget-view+json": {
       "model_id": "24fb56c98b1c488c9d6dad08219f91a1",
       "version_major": 2,
       "version_minor": 0
      },
      "text/plain": [
       "  0%|          | 0/10 [00:00<?, ?it/s]"
      ]
     },
     "metadata": {},
     "output_type": "display_data"
    },
    {
     "name": "stdout",
     "output_type": "stream",
     "text": [
      "average-myTree_mc: 0.597\n",
      "average-T_median: 0.603\n",
      "average-T_mean: 0.520\n",
      "average-standard: 0.773\n",
      "average-nearestCentroid: 0.738\n",
      "\n",
      "\n",
      "breast_cancer_wisconsin\n"
     ]
    },
    {
     "data": {
      "application/vnd.jupyter.widget-view+json": {
       "model_id": "4ff7a4d36f9b49bab70d9b46e0e2f0dd",
       "version_major": 2,
       "version_minor": 0
      },
      "text/plain": [
       "  0%|          | 0/10 [00:00<?, ?it/s]"
      ]
     },
     "metadata": {},
     "output_type": "display_data"
    },
    {
     "name": "stdout",
     "output_type": "stream",
     "text": [
      "average-myTree_mc: 0.930\n",
      "average-T_median: 0.915\n",
      "average-T_mean: 0.918\n",
      "average-standard: 0.941\n",
      "average-nearestCentroid: 0.961\n",
      "\n",
      "\n",
      "car\n"
     ]
    },
    {
     "data": {
      "application/vnd.jupyter.widget-view+json": {
       "model_id": "a33c27464f894b91b6025c3a0b8abdd5",
       "version_major": 2,
       "version_minor": 0
      },
      "text/plain": [
       "  0%|          | 0/10 [00:00<?, ?it/s]"
      ]
     },
     "metadata": {},
     "output_type": "display_data"
    },
    {
     "name": "stdout",
     "output_type": "stream",
     "text": [
      "average-myTree_mc: 0.827\n",
      "average-T_median: 0.835\n",
      "average-T_mean: 0.704\n",
      "average-standard: 0.978\n",
      "average-nearestCentroid: 0.493\n",
      "\n",
      "\n",
      "chess\n"
     ]
    },
    {
     "data": {
      "application/vnd.jupyter.widget-view+json": {
       "model_id": "f1076931d2bb4b359f4ff50073cd859f",
       "version_major": 2,
       "version_minor": 0
      },
      "text/plain": [
       "  0%|          | 0/10 [00:00<?, ?it/s]"
      ]
     },
     "metadata": {},
     "output_type": "display_data"
    },
    {
     "name": "stdout",
     "output_type": "stream",
     "text": [
      "average-myTree_mc: 0.935\n",
      "average-T_median: 0.933\n",
      "average-T_mean: 0.933\n",
      "average-standard: 0.953\n",
      "average-nearestCentroid: 0.770\n",
      "\n",
      "\n",
      "credit_approval\n"
     ]
    },
    {
     "data": {
      "application/vnd.jupyter.widget-view+json": {
       "model_id": "100429aedff3498aba7853a4c818be1c",
       "version_major": 2,
       "version_minor": 0
      },
      "text/plain": [
       "  0%|          | 0/10 [00:00<?, ?it/s]"
      ]
     },
     "metadata": {},
     "output_type": "display_data"
    },
    {
     "name": "stdout",
     "output_type": "stream",
     "text": [
      "average-myTree_mc: 0.781\n",
      "average-T_median: 0.522\n",
      "average-T_mean: 0.523\n",
      "average-standard: 0.836\n",
      "average-nearestCentroid: 0.580\n",
      "\n",
      "\n",
      "dermatology\n"
     ]
    },
    {
     "data": {
      "application/vnd.jupyter.widget-view+json": {
       "model_id": "0667a57198ce4baea3abe80cd2cd7e2d",
       "version_major": 2,
       "version_minor": 0
      },
      "text/plain": [
       "  0%|          | 0/10 [00:00<?, ?it/s]"
      ]
     },
     "metadata": {},
     "output_type": "display_data"
    },
    {
     "name": "stdout",
     "output_type": "stream",
     "text": [
      "average-myTree_mc: 0.895\n",
      "average-T_median: 0.905\n",
      "average-T_mean: 0.916\n",
      "average-standard: 0.943\n",
      "average-nearestCentroid: 0.966\n",
      "\n",
      "\n",
      "dna_promoter\n"
     ]
    },
    {
     "data": {
      "application/vnd.jupyter.widget-view+json": {
       "model_id": "e30fe74330fc45d28b77c1982850f04f",
       "version_major": 2,
       "version_minor": 0
      },
      "text/plain": [
       "  0%|          | 0/10 [00:00<?, ?it/s]"
      ]
     },
     "metadata": {},
     "output_type": "display_data"
    },
    {
     "name": "stdout",
     "output_type": "stream",
     "text": [
      "average-myTree_mc: 0.736\n",
      "average-T_median: 0.704\n",
      "average-T_mean: 0.732\n",
      "average-standard: 0.751\n",
      "average-nearestCentroid: 0.808\n",
      "\n",
      "\n",
      "hayes_roth\n"
     ]
    },
    {
     "data": {
      "application/vnd.jupyter.widget-view+json": {
       "model_id": "6be884511c884025b40d3e82c2ce4453",
       "version_major": 2,
       "version_minor": 0
      },
      "text/plain": [
       "  0%|          | 0/10 [00:00<?, ?it/s]"
      ]
     },
     "metadata": {},
     "output_type": "display_data"
    },
    {
     "name": "stdout",
     "output_type": "stream",
     "text": [
      "average-myTree_mc: 0.691\n",
      "average-T_median: 0.703\n",
      "average-T_mean: 0.710\n",
      "average-standard: 0.830\n",
      "average-nearestCentroid: 0.555\n",
      "\n",
      "\n",
      "heart_disease\n"
     ]
    },
    {
     "data": {
      "application/vnd.jupyter.widget-view+json": {
       "model_id": "188dc7cd8dc54215a9db9fb8d73289a7",
       "version_major": 2,
       "version_minor": 0
      },
      "text/plain": [
       "  0%|          | 0/10 [00:00<?, ?it/s]"
      ]
     },
     "metadata": {},
     "output_type": "display_data"
    },
    {
     "name": "stdout",
     "output_type": "stream",
     "text": [
      "average-myTree_mc: 0.505\n",
      "average-T_median: 0.509\n",
      "average-T_mean: 0.519\n",
      "average-standard: 0.491\n",
      "average-nearestCentroid: 0.530\n",
      "\n",
      "\n",
      "house_votes\n"
     ]
    },
    {
     "data": {
      "application/vnd.jupyter.widget-view+json": {
       "model_id": "907884296afa4bc4ac2e6c477d65f751",
       "version_major": 2,
       "version_minor": 0
      },
      "text/plain": [
       "  0%|          | 0/10 [00:00<?, ?it/s]"
      ]
     },
     "metadata": {},
     "output_type": "display_data"
    },
    {
     "name": "stdout",
     "output_type": "stream",
     "text": [
      "average-myTree_mc: 0.924\n",
      "average-T_median: 0.924\n",
      "average-T_mean: 0.905\n",
      "average-standard: 0.943\n",
      "average-nearestCentroid: 0.885\n",
      "\n",
      "\n",
      "lecturer_evaluation\n"
     ]
    },
    {
     "data": {
      "application/vnd.jupyter.widget-view+json": {
       "model_id": "87790409635f418cbe2d9fc460a9279b",
       "version_major": 2,
       "version_minor": 0
      },
      "text/plain": [
       "  0%|          | 0/10 [00:00<?, ?it/s]"
      ]
     },
     "metadata": {},
     "output_type": "display_data"
    },
    {
     "name": "stdout",
     "output_type": "stream",
     "text": [
      "average-myTree_mc: 0.606\n",
      "average-T_median: 0.267\n",
      "average-T_mean: 0.297\n",
      "average-standard: 0.612\n",
      "average-nearestCentroid: 0.469\n",
      "\n",
      "\n",
      "lenses\n"
     ]
    },
    {
     "data": {
      "application/vnd.jupyter.widget-view+json": {
       "model_id": "fcdef324073c47019c2d72a3d1c6529a",
       "version_major": 2,
       "version_minor": 0
      },
      "text/plain": [
       "  0%|          | 0/10 [00:00<?, ?it/s]"
      ]
     },
     "metadata": {},
     "output_type": "display_data"
    },
    {
     "name": "stdout",
     "output_type": "stream",
     "text": [
      "average-myTree_mc: 0.674\n",
      "average-T_median: 0.678\n",
      "average-T_mean: 0.660\n",
      "average-standard: 0.828\n",
      "average-nearestCentroid: 0.665\n",
      "\n",
      "\n",
      "lung_cancer\n"
     ]
    },
    {
     "data": {
      "application/vnd.jupyter.widget-view+json": {
       "model_id": "9c29b6b33cb54b23893b42b1956133d5",
       "version_major": 2,
       "version_minor": 0
      },
      "text/plain": [
       "  0%|          | 0/10 [00:00<?, ?it/s]"
      ]
     },
     "metadata": {},
     "output_type": "display_data"
    },
    {
     "name": "stdout",
     "output_type": "stream",
     "text": [
      "average-myTree_mc: 0.382\n",
      "average-T_median: 0.387\n",
      "average-T_mean: 0.396\n",
      "average-standard: 0.420\n",
      "average-nearestCentroid: 0.562\n",
      "\n",
      "\n",
      "lymphography\n"
     ]
    },
    {
     "data": {
      "application/vnd.jupyter.widget-view+json": {
       "model_id": "0a0632684dd44ed88762f53131374600",
       "version_major": 2,
       "version_minor": 0
      },
      "text/plain": [
       "  0%|          | 0/10 [00:00<?, ?it/s]"
      ]
     },
     "metadata": {},
     "output_type": "display_data"
    },
    {
     "name": "stdout",
     "output_type": "stream",
     "text": [
      "average-myTree_mc: 0.775\n",
      "average-T_median: 0.758\n",
      "average-T_mean: 0.766\n",
      "average-standard: 0.761\n",
      "average-nearestCentroid: 0.749\n",
      "\n",
      "\n",
      "mammographic_mass\n"
     ]
    },
    {
     "data": {
      "application/vnd.jupyter.widget-view+json": {
       "model_id": "97b04a35a8584bb181b0c0b052e6f731",
       "version_major": 2,
       "version_minor": 0
      },
      "text/plain": [
       "  0%|          | 0/10 [00:00<?, ?it/s]"
      ]
     },
     "metadata": {},
     "output_type": "display_data"
    },
    {
     "name": "stdout",
     "output_type": "stream",
     "text": [
      "average-myTree_mc: 0.765\n",
      "average-T_median: 0.484\n",
      "average-T_mean: 0.484\n",
      "average-standard: 0.825\n",
      "average-nearestCentroid: 0.798\n",
      "\n",
      "\n",
      "mushroom\n"
     ]
    },
    {
     "data": {
      "application/vnd.jupyter.widget-view+json": {
       "model_id": "fd1a1dbebee94a518229874483aa26ec",
       "version_major": 2,
       "version_minor": 0
      },
      "text/plain": [
       "  0%|          | 0/10 [00:00<?, ?it/s]"
      ]
     },
     "metadata": {},
     "output_type": "display_data"
    },
    {
     "name": "stdout",
     "output_type": "stream",
     "text": [
      "average-myTree_mc: 0.999\n",
      "average-T_median: 1.000\n",
      "average-T_mean: 1.000\n",
      "average-standard: 1.000\n",
      "average-nearestCentroid: 0.774\n",
      "\n",
      "\n",
      "nursery\n"
     ]
    },
    {
     "data": {
      "application/vnd.jupyter.widget-view+json": {
       "model_id": "f68b96e74df8482db34fa25608c2e491",
       "version_major": 2,
       "version_minor": 0
      },
      "text/plain": [
       "  0%|          | 0/10 [00:00<?, ?it/s]"
      ]
     },
     "metadata": {},
     "output_type": "display_data"
    },
    {
     "name": "stdout",
     "output_type": "stream",
     "text": [
      "average-myTree_mc: 0.903\n",
      "average-T_median: 0.916\n",
      "average-T_mean: 0.853\n",
      "average-standard: 0.995\n",
      "average-nearestCentroid: 0.672\n",
      "\n",
      "\n",
      "photo_evaluation\n"
     ]
    },
    {
     "data": {
      "application/vnd.jupyter.widget-view+json": {
       "model_id": "bf3977ada544459da5b2bc81945ac572",
       "version_major": 2,
       "version_minor": 0
      },
      "text/plain": [
       "  0%|          | 0/10 [00:00<?, ?it/s]"
      ]
     },
     "metadata": {},
     "output_type": "display_data"
    },
    {
     "name": "stdout",
     "output_type": "stream",
     "text": [
      "average-myTree_mc: 0.697\n",
      "average-T_median: 0.696\n",
      "average-T_mean: 0.666\n",
      "average-standard: 0.793\n",
      "average-nearestCentroid: 0.697\n",
      "\n",
      "\n",
      "primary_tumor\n"
     ]
    },
    {
     "data": {
      "application/vnd.jupyter.widget-view+json": {
       "model_id": "ee6dafa26f2844f79f64acb9520000ec",
       "version_major": 2,
       "version_minor": 0
      },
      "text/plain": [
       "  0%|          | 0/10 [00:00<?, ?it/s]"
      ]
     },
     "metadata": {},
     "output_type": "display_data"
    },
    {
     "name": "stdout",
     "output_type": "stream",
     "text": [
      "average-myTree_mc: 0.323\n",
      "average-T_median: 0.338\n",
      "average-T_mean: 0.340\n",
      "average-standard: 0.354\n",
      "average-nearestCentroid: 0.263\n",
      "\n",
      "\n",
      "solar_flare\n"
     ]
    },
    {
     "data": {
      "application/vnd.jupyter.widget-view+json": {
       "model_id": "6e4905835e6243e1a1a17e26bf64e3f0",
       "version_major": 2,
       "version_minor": 0
      },
      "text/plain": [
       "  0%|          | 0/10 [00:00<?, ?it/s]"
      ]
     },
     "metadata": {},
     "output_type": "display_data"
    },
    {
     "name": "stdout",
     "output_type": "stream",
     "text": [
      "average-myTree_mc: 0.683\n",
      "average-T_median: 0.666\n",
      "average-T_mean: 0.671\n",
      "average-standard: 0.705\n",
      "average-nearestCentroid: 0.514\n",
      "\n",
      "\n",
      "soybean_small\n"
     ]
    },
    {
     "data": {
      "application/vnd.jupyter.widget-view+json": {
       "model_id": "da7a9cf3e532438abcb01301059d0c1c",
       "version_major": 2,
       "version_minor": 0
      },
      "text/plain": [
       "  0%|          | 0/10 [00:00<?, ?it/s]"
      ]
     },
     "metadata": {},
     "output_type": "display_data"
    },
    {
     "name": "stdout",
     "output_type": "stream",
     "text": [
      "average-myTree_mc: 0.979\n",
      "average-T_median: 0.974\n",
      "average-T_mean: 0.983\n",
      "average-standard: 0.974\n",
      "average-nearestCentroid: 0.978\n",
      "\n",
      "\n",
      "tic_tac_toe\n"
     ]
    },
    {
     "data": {
      "application/vnd.jupyter.widget-view+json": {
       "model_id": "e3a5ee08f89243f181bdee426c591863",
       "version_major": 2,
       "version_minor": 0
      },
      "text/plain": [
       "  0%|          | 0/10 [00:00<?, ?it/s]"
      ]
     },
     "metadata": {},
     "output_type": "display_data"
    },
    {
     "name": "stdout",
     "output_type": "stream",
     "text": [
      "average-myTree_mc: 0.787\n",
      "average-T_median: 0.790\n",
      "average-T_mean: 0.732\n",
      "average-standard: 0.873\n",
      "average-nearestCentroid: 0.569\n",
      "\n",
      "\n",
      "titanic\n"
     ]
    },
    {
     "data": {
      "application/vnd.jupyter.widget-view+json": {
       "model_id": "9fb1c596c2f3420f8d5539035670cc97",
       "version_major": 2,
       "version_minor": 0
      },
      "text/plain": [
       "  0%|          | 0/10 [00:00<?, ?it/s]"
      ]
     },
     "metadata": {},
     "output_type": "display_data"
    },
    {
     "name": "stdout",
     "output_type": "stream",
     "text": [
      "average-myTree_mc: 0.528\n",
      "average-T_median: 0.148\n",
      "average-T_mean: 0.148\n",
      "average-standard: 0.528\n",
      "average-nearestCentroid: 0.426\n",
      "\n",
      "\n",
      "zoo\n"
     ]
    },
    {
     "data": {
      "application/vnd.jupyter.widget-view+json": {
       "model_id": "0650ee351c0d441bb783fa6f2bdfc0cb",
       "version_major": 2,
       "version_minor": 0
      },
      "text/plain": [
       "  0%|          | 0/10 [00:00<?, ?it/s]"
      ]
     },
     "metadata": {},
     "output_type": "display_data"
    },
    {
     "name": "stdout",
     "output_type": "stream",
     "text": [
      "average-myTree_mc: 0.948\n",
      "average-T_median: 0.959\n",
      "average-T_mean: 0.959\n",
      "average-standard: 0.945\n",
      "average-nearestCentroid: 0.874\n",
      "\n",
      "\n"
     ]
    }
   ],
   "source": [
    "for fileName in categoricalFileNames:\n",
    "    print(fileName)\n",
    "    accTotal=test_average_categorical(fileName)\n",
    "    write_acc('result_categorical.txt', fileName,accTotal)\n",
    "    print('\\n')"
   ]
  },
  {
   "attachments": {},
   "cell_type": "markdown",
   "metadata": {},
   "source": [
    "## sequence数据集"
   ]
  },
  {
   "cell_type": "code",
   "execution_count": 4,
   "metadata": {},
   "outputs": [],
   "source": [
    "sequenceFileNames = [\n",
    "    'aslbu',\n",
    "    'auslan2',\n",
    "    'context',\n",
    "    'epitope',\n",
    "    'gene',\n",
    "    'pioneer',\n",
    "    'question',\n",
    "    'reuters',\n",
    "    'robot',\n",
    "    'skating',\n",
    "    'unix'\n",
    "]\n",
    "fileFolderNames = [\"../dataset/sequence/\"]\n",
    "\n",
    "def test_sequence(fileName):\n",
    "    if fileName==sequenceFileNames[0]:\n",
    "        return tdu.testSequenceDatasetUtils.test_aslbu()\n",
    "    elif fileName==sequenceFileNames[1]:\n",
    "        return tdu.testSequenceDatasetUtils.test_auslan2()\n",
    "    elif fileName==sequenceFileNames[2]:\n",
    "        return tdu.testSequenceDatasetUtils.test_context()\n",
    "    elif fileName==sequenceFileNames[3]:\n",
    "        return tdu.testSequenceDatasetUtils.test_epitope()\n",
    "    elif fileName==sequenceFileNames[4]:\n",
    "        return tdu.testSequenceDatasetUtils.test_gene()\n",
    "    elif fileName==sequenceFileNames[5]:\n",
    "        return tdu.testSequenceDatasetUtils.test_pioneer()\n",
    "    elif fileName==sequenceFileNames[6]:\n",
    "        return tdu.testSequenceDatasetUtils.test_question()\n",
    "    elif fileName==sequenceFileNames[7]:\n",
    "        return tdu.testSequenceDatasetUtils.test_reuters()\n",
    "    elif fileName==sequenceFileNames[8]:\n",
    "        return tdu.testSequenceDatasetUtils.test_robot()\n",
    "    elif fileName==sequenceFileNames[9]:\n",
    "        return tdu.testSequenceDatasetUtils.test_skating()\n",
    "    elif fileName==sequenceFileNames[10]:\n",
    "        return tdu.testSequenceDatasetUtils.test_unix()\n",
    "\n",
    "def test_average_sequence(fileName):\n",
    "    accTotal = {'myTree_mc_rank':[],'T_median_rank':[],'myTree_mc_edit':[],'T_median_edit': []}\n",
    "    for i in tqdm(range(0, max_iter)):\n",
    "        res = test_sequence(fileName)\n",
    "\n",
    "        for key in accTotal.keys():\n",
    "            if len(res[key]) != 0:\n",
    "                accTotal[key].append(np.mean(res[key]))\n",
    "\n",
    "    for key in accTotal.keys():\n",
    "        if len(accTotal[key]) != 0:\n",
    "            print('average-%s: %.3f' % (key, np.mean(accTotal[key])))\n",
    "\n",
    "    return accTotal"
   ]
  },
  {
   "cell_type": "code",
   "execution_count": 9,
   "metadata": {},
   "outputs": [
    {
     "name": "stdout",
     "output_type": "stream",
     "text": [
      "aslbu\n"
     ]
    },
    {
     "data": {
      "application/vnd.jupyter.widget-view+json": {
       "model_id": "d364147e2b8e401c93b8d951138907c7",
       "version_major": 2,
       "version_minor": 0
      },
      "text/plain": [
       "  0%|          | 0/10 [00:00<?, ?it/s]"
      ]
     },
     "metadata": {},
     "output_type": "display_data"
    },
    {
     "name": "stdout",
     "output_type": "stream",
     "text": [
      "average-myTree_mc_rank: 0.433\n",
      "average-T_median_rank: 0.407\n",
      "average-myTree_mc_edit: 0.395\n",
      "average-T_median_edit: 0.386\n",
      "\n",
      "\n",
      "auslan2\n"
     ]
    },
    {
     "data": {
      "application/vnd.jupyter.widget-view+json": {
       "model_id": "41facfb927834a72aac00634b1a0406e",
       "version_major": 2,
       "version_minor": 0
      },
      "text/plain": [
       "  0%|          | 0/10 [00:00<?, ?it/s]"
      ]
     },
     "metadata": {},
     "output_type": "display_data"
    },
    {
     "name": "stdout",
     "output_type": "stream",
     "text": [
      "average-myTree_mc_rank: 0.102\n",
      "average-T_median_rank: 0.272\n",
      "average-myTree_mc_edit: 0.209\n",
      "average-T_median_edit: 0.298\n",
      "\n",
      "\n",
      "context\n"
     ]
    },
    {
     "data": {
      "application/vnd.jupyter.widget-view+json": {
       "model_id": "2ce9dba5df224ec481edd8408465ba47",
       "version_major": 2,
       "version_minor": 0
      },
      "text/plain": [
       "  0%|          | 0/10 [00:00<?, ?it/s]"
      ]
     },
     "metadata": {},
     "output_type": "display_data"
    },
    {
     "name": "stdout",
     "output_type": "stream",
     "text": [
      "average-myTree_mc_rank: 0.821\n",
      "average-T_median_rank: 0.797\n",
      "average-myTree_mc_edit: 0.471\n",
      "average-T_median_edit: 0.454\n",
      "\n",
      "\n",
      "epitope\n"
     ]
    },
    {
     "data": {
      "application/vnd.jupyter.widget-view+json": {
       "model_id": "cace4f9dc12a4e45b1c0923f7a68332a",
       "version_major": 2,
       "version_minor": 0
      },
      "text/plain": [
       "  0%|          | 0/10 [00:00<?, ?it/s]"
      ]
     },
     "metadata": {},
     "output_type": "display_data"
    },
    {
     "name": "stdout",
     "output_type": "stream",
     "text": [
      "average-myTree_mc_rank: 0.826\n",
      "average-T_median_rank: 0.817\n",
      "average-myTree_mc_edit: 0.854\n",
      "average-T_median_edit: 0.875\n",
      "\n",
      "\n",
      "gene\n"
     ]
    },
    {
     "data": {
      "application/vnd.jupyter.widget-view+json": {
       "model_id": "44c4b2cb6028483abc562e2aedae7a7b",
       "version_major": 2,
       "version_minor": 0
      },
      "text/plain": [
       "  0%|          | 0/10 [00:00<?, ?it/s]"
      ]
     },
     "metadata": {},
     "output_type": "display_data"
    },
    {
     "name": "stdout",
     "output_type": "stream",
     "text": [
      "average-myTree_mc_rank: 0.998\n",
      "average-T_median_rank: 0.998\n",
      "average-myTree_mc_edit: 0.976\n",
      "average-T_median_edit: 0.877\n",
      "\n",
      "\n",
      "pioneer\n"
     ]
    },
    {
     "data": {
      "application/vnd.jupyter.widget-view+json": {
       "model_id": "6fb9a79f60ef41a990605c5bcd110024",
       "version_major": 2,
       "version_minor": 0
      },
      "text/plain": [
       "  0%|          | 0/10 [00:00<?, ?it/s]"
      ]
     },
     "metadata": {},
     "output_type": "display_data"
    },
    {
     "name": "stdout",
     "output_type": "stream",
     "text": [
      "average-myTree_mc_rank: 0.840\n",
      "average-T_median_rank: 0.838\n",
      "average-myTree_mc_edit: 0.905\n",
      "average-T_median_edit: 0.916\n",
      "\n",
      "\n",
      "question\n"
     ]
    },
    {
     "data": {
      "application/vnd.jupyter.widget-view+json": {
       "model_id": "b02b307d2f5f4eb1a1c1eb6ecfcf5ea2",
       "version_major": 2,
       "version_minor": 0
      },
      "text/plain": [
       "  0%|          | 0/10 [00:00<?, ?it/s]"
      ]
     },
     "metadata": {},
     "output_type": "display_data"
    },
    {
     "name": "stdout",
     "output_type": "stream",
     "text": [
      "average-myTree_mc_rank: 0.865\n",
      "average-T_median_rank: 0.846\n",
      "average-myTree_mc_edit: 0.908\n",
      "average-T_median_edit: 0.893\n",
      "\n",
      "\n",
      "reuters\n"
     ]
    },
    {
     "data": {
      "application/vnd.jupyter.widget-view+json": {
       "model_id": "b3a7e0c294554ca3ade9e28db2d2e55b",
       "version_major": 2,
       "version_minor": 0
      },
      "text/plain": [
       "  0%|          | 0/10 [00:00<?, ?it/s]"
      ]
     },
     "metadata": {},
     "output_type": "display_data"
    },
    {
     "name": "stdout",
     "output_type": "stream",
     "text": [
      "average-myTree_mc_rank: 0.779\n",
      "average-T_median_rank: 0.738\n",
      "average-myTree_mc_edit: 0.729\n",
      "average-T_median_edit: 0.673\n",
      "\n",
      "\n",
      "robot\n"
     ]
    },
    {
     "data": {
      "application/vnd.jupyter.widget-view+json": {
       "model_id": "805ab0bbc16e4cd9a4c8a57bf79846ee",
       "version_major": 2,
       "version_minor": 0
      },
      "text/plain": [
       "  0%|          | 0/10 [00:00<?, ?it/s]"
      ]
     },
     "metadata": {},
     "output_type": "display_data"
    },
    {
     "ename": "ValueError",
     "evalue": "The truth value of an array with more than one element is ambiguous. Use a.any() or a.all()",
     "output_type": "error",
     "traceback": [
      "\u001b[0;31m---------------------------------------------------------------------------\u001b[0m",
      "\u001b[0;31mValueError\u001b[0m                                Traceback (most recent call last)",
      "Cell \u001b[0;32mIn[9], line 3\u001b[0m\n\u001b[1;32m      1\u001b[0m \u001b[39mfor\u001b[39;00m fileName \u001b[39min\u001b[39;00m sequenceFileNames:\n\u001b[1;32m      2\u001b[0m     \u001b[39mprint\u001b[39m(fileName)\n\u001b[0;32m----> 3\u001b[0m     accTotal\u001b[39m=\u001b[39mtest_average_sequence(fileName)\n\u001b[1;32m      4\u001b[0m     write_acc(\u001b[39m'\u001b[39m\u001b[39mresult_sequence.txt\u001b[39m\u001b[39m'\u001b[39m, fileName,accTotal)\n\u001b[1;32m      5\u001b[0m     \u001b[39mprint\u001b[39m(\u001b[39m'\u001b[39m\u001b[39m\\n\u001b[39;00m\u001b[39m'\u001b[39m)\n",
      "Cell \u001b[0;32mIn[8], line 43\u001b[0m, in \u001b[0;36mtest_average_sequence\u001b[0;34m(fileName)\u001b[0m\n\u001b[1;32m     41\u001b[0m accTotal \u001b[39m=\u001b[39m {\u001b[39m'\u001b[39m\u001b[39mmyTree_mc_rank\u001b[39m\u001b[39m'\u001b[39m:[],\u001b[39m'\u001b[39m\u001b[39mT_median_rank\u001b[39m\u001b[39m'\u001b[39m:[],\u001b[39m'\u001b[39m\u001b[39mmyTree_mc_edit\u001b[39m\u001b[39m'\u001b[39m:[],\u001b[39m'\u001b[39m\u001b[39mT_median_edit\u001b[39m\u001b[39m'\u001b[39m: []}\n\u001b[1;32m     42\u001b[0m \u001b[39mfor\u001b[39;00m i \u001b[39min\u001b[39;00m tqdm(\u001b[39mrange\u001b[39m(\u001b[39m0\u001b[39m, max_iter)):\n\u001b[0;32m---> 43\u001b[0m     res \u001b[39m=\u001b[39m test_sequence(fileName)\n\u001b[1;32m     45\u001b[0m     \u001b[39mfor\u001b[39;00m key \u001b[39min\u001b[39;00m accTotal\u001b[39m.\u001b[39mkeys():\n\u001b[1;32m     46\u001b[0m         \u001b[39mif\u001b[39;00m \u001b[39mlen\u001b[39m(res[key]) \u001b[39m!=\u001b[39m \u001b[39m0\u001b[39m:\n",
      "Cell \u001b[0;32mIn[8], line 34\u001b[0m, in \u001b[0;36mtest_sequence\u001b[0;34m(fileName)\u001b[0m\n\u001b[1;32m     32\u001b[0m     \u001b[39mreturn\u001b[39;00m tdu\u001b[39m.\u001b[39mtestSequenceDatasetUtils\u001b[39m.\u001b[39mtest_reuters()\n\u001b[1;32m     33\u001b[0m \u001b[39melif\u001b[39;00m fileName\u001b[39m==\u001b[39msequenceFileNames[\u001b[39m8\u001b[39m]:\n\u001b[0;32m---> 34\u001b[0m     \u001b[39mreturn\u001b[39;00m tdu\u001b[39m.\u001b[39;49mtestSequenceDatasetUtils\u001b[39m.\u001b[39;49mtest_robot()\n\u001b[1;32m     35\u001b[0m \u001b[39melif\u001b[39;00m fileName\u001b[39m==\u001b[39msequenceFileNames[\u001b[39m9\u001b[39m]:\n\u001b[1;32m     36\u001b[0m     \u001b[39mreturn\u001b[39;00m tdu\u001b[39m.\u001b[39mtestSequenceDatasetUtils\u001b[39m.\u001b[39mtest_skating()\n",
      "File \u001b[0;32m~/study/my_research/decisionTree_Distance/DTforCurrency/testDatasetUtils.py:622\u001b[0m, in \u001b[0;36mtestSequenceDatasetUtils.test_robot\u001b[0;34m()\u001b[0m\n\u001b[1;32m    620\u001b[0m \u001b[39mdef\u001b[39;00m \u001b[39mtest_robot\u001b[39m():\n\u001b[1;32m    621\u001b[0m     constant\u001b[39m.\u001b[39m_init()\n\u001b[0;32m--> 622\u001b[0m     \u001b[39mreturn\u001b[39;00m testSequenceUtils\u001b[39m.\u001b[39;49mtest_sequence_contrast(\u001b[39m\"\u001b[39;49m\u001b[39m../dataset/sequence/robot.txt\u001b[39;49m\u001b[39m\"\u001b[39;49m)\n",
      "File \u001b[0;32m~/study/my_research/decisionTree_Distance/DTforCurrency/testUtils.py:174\u001b[0m, in \u001b[0;36mtestSequenceUtils.test_sequence_contrast\u001b[0;34m(filename)\u001b[0m\n\u001b[1;32m    171\u001b[0m T_median_rank\u001b[39m.\u001b[39mfit(indeices)\n\u001b[1;32m    172\u001b[0m acc[\u001b[39m'\u001b[39m\u001b[39mT_median_rank\u001b[39m\u001b[39m'\u001b[39m]\u001b[39m.\u001b[39mappend(T_median_rank\u001b[39m.\u001b[39mscore(X_test, y_test))\n\u001b[0;32m--> 174\u001b[0m constant\u001b[39m.\u001b[39mset_value(\u001b[39m'\u001b[39m\u001b[39mgl_distances\u001b[39m\u001b[39m'\u001b[39m, tools\u001b[39m.\u001b[39;49mcalcDistancesMetric(\u001b[39m'\u001b[39;49m\u001b[39msequence\u001b[39;49m\u001b[39m'\u001b[39;49m,\u001b[39m'\u001b[39;49m\u001b[39mlcstr\u001b[39;49m\u001b[39m'\u001b[39;49m,X_train))\n\u001b[1;32m    176\u001b[0m t_edit \u001b[39m=\u001b[39m dt\u001b[39m.\u001b[39mDT_currency(dataType\u001b[39m=\u001b[39m\u001b[39m'\u001b[39m\u001b[39msequence\u001b[39m\u001b[39m'\u001b[39m,distanceMeasure\u001b[39m=\u001b[39m\u001b[39m'\u001b[39m\u001b[39mlcstr\u001b[39m\u001b[39m'\u001b[39m)\n\u001b[1;32m    177\u001b[0m indeices \u001b[39m=\u001b[39m [index \u001b[39mfor\u001b[39;00m index \u001b[39min\u001b[39;00m \u001b[39mrange\u001b[39m(\u001b[39mlen\u001b[39m(X_train))]\n",
      "File \u001b[0;32m~/study/my_research/decisionTree_Distance/DTforCurrency/tools.py:23\u001b[0m, in \u001b[0;36mcalcDistancesMetric\u001b[0;34m(dataType, distanceMeasure, X)\u001b[0m\n\u001b[1;32m     21\u001b[0m \u001b[39mfor\u001b[39;00m j \u001b[39min\u001b[39;00m \u001b[39mrange\u001b[39m(length):\n\u001b[1;32m     22\u001b[0m     \u001b[39mfor\u001b[39;00m i \u001b[39min\u001b[39;00m \u001b[39mrange\u001b[39m(j):\n\u001b[0;32m---> 23\u001b[0m         distances[i \u001b[39m+\u001b[39m ((j \u001b[39m-\u001b[39m \u001b[39m1\u001b[39m) \u001b[39m*\u001b[39m j \u001b[39m>>\u001b[39m \u001b[39m1\u001b[39m)] \u001b[39m=\u001b[39m calcDistance(dataType,distanceMeasure,X[i], X[j])\n\u001b[1;32m     24\u001b[0m \u001b[39mreturn\u001b[39;00m distances\n",
      "File \u001b[0;32m~/study/my_research/decisionTree_Distance/DTforCurrency/tools.py:37\u001b[0m, in \u001b[0;36mcalcDistance\u001b[0;34m(dataType, distanceMeasure, data1, data2)\u001b[0m\n\u001b[1;32m     35\u001b[0m         \u001b[39mreturn\u001b[39;00m __rankDistance(data1, data2)\n\u001b[1;32m     36\u001b[0m     \u001b[39melif\u001b[39;00m distanceMeasure\u001b[39m==\u001b[39m\u001b[39m'\u001b[39m\u001b[39mlcstr\u001b[39m\u001b[39m'\u001b[39m:\n\u001b[0;32m---> 37\u001b[0m         \u001b[39mreturn\u001b[39;00m __distance_measure_lcstr(data1, data2)\n\u001b[1;32m     38\u001b[0m \u001b[39melse\u001b[39;00m:\n\u001b[1;32m     39\u001b[0m     \u001b[39m# TODO\u001b[39;00m\n\u001b[1;32m     40\u001b[0m     \u001b[39mreturn\u001b[39;00m\n",
      "File \u001b[0;32m~/study/my_research/decisionTree_Distance/DTforCurrency/tools.py:95\u001b[0m, in \u001b[0;36m__distance_measure_lcstr\u001b[0;34m(seq1, seq2)\u001b[0m\n\u001b[1;32m     94\u001b[0m \u001b[39mdef\u001b[39;00m \u001b[39m__distance_measure_lcstr\u001b[39m(seq1, seq2):\n\u001b[0;32m---> 95\u001b[0m     similarity \u001b[39m=\u001b[39m \u001b[39mlen\u001b[39m(textdistance\u001b[39m.\u001b[39;49mlcsstr(seq1, seq2))\n\u001b[1;32m     96\u001b[0m     distance \u001b[39m=\u001b[39m \u001b[39m1\u001b[39m \u001b[39m-\u001b[39m similarity \u001b[39m/\u001b[39m (\u001b[39mlen\u001b[39m(seq1) \u001b[39m+\u001b[39m \u001b[39mlen\u001b[39m(seq2))\n\u001b[1;32m     97\u001b[0m     \u001b[39mreturn\u001b[39;00m distance\n",
      "File \u001b[0;32m~/Library/Python/3.9/lib/python/site-packages/textdistance/algorithms/sequence_based.py:124\u001b[0m, in \u001b[0;36mLCSStr.__call__\u001b[0;34m(self, *sequences)\u001b[0m\n\u001b[1;32m    123\u001b[0m \u001b[39mdef\u001b[39;00m \u001b[39m__call__\u001b[39m(\u001b[39mself\u001b[39m, \u001b[39m*\u001b[39msequences: \u001b[39mstr\u001b[39m) \u001b[39m-\u001b[39m\u001b[39m>\u001b[39m \u001b[39mstr\u001b[39m:\n\u001b[0;32m--> 124\u001b[0m     \u001b[39mif\u001b[39;00m \u001b[39mnot\u001b[39;00m \u001b[39mall\u001b[39;49m(sequences):\n\u001b[1;32m    125\u001b[0m     \u001b[39m# if not sequences.all():\u001b[39;00m\n\u001b[1;32m    126\u001b[0m         \u001b[39mreturn\u001b[39;00m \u001b[39m'\u001b[39m\u001b[39m'\u001b[39m\n\u001b[1;32m    127\u001b[0m     length \u001b[39m=\u001b[39m \u001b[39mlen\u001b[39m(sequences)\n",
      "\u001b[0;31mValueError\u001b[0m: The truth value of an array with more than one element is ambiguous. Use a.any() or a.all()"
     ]
    }
   ],
   "source": [
    "for fileName in sequenceFileNames:\n",
    "    print(fileName)\n",
    "    accTotal=test_average_sequence(fileName)\n",
    "    write_acc('result_sequence.txt', fileName,accTotal)\n",
    "    print('\\n')"
   ]
  },
  {
   "cell_type": "code",
   "execution_count": 7,
   "metadata": {},
   "outputs": [
    {
     "name": "stdout",
     "output_type": "stream",
     "text": [
      "skating\n"
     ]
    },
    {
     "data": {
      "application/vnd.jupyter.widget-view+json": {
       "model_id": "1ced101d167946f7ac5430823e619979",
       "version_major": 2,
       "version_minor": 0
      },
      "text/plain": [
       "  0%|          | 0/10 [00:00<?, ?it/s]"
      ]
     },
     "metadata": {},
     "output_type": "display_data"
    },
    {
     "name": "stdout",
     "output_type": "stream",
     "text": [
      "average-myTree_mc_rank: 0.197\n",
      "average-T_median_rank: 0.193\n",
      "average-myTree_mc_edit: 0.208\n",
      "average-T_median_edit: 0.217\n",
      "\n",
      "\n",
      "unix\n"
     ]
    },
    {
     "data": {
      "application/vnd.jupyter.widget-view+json": {
       "model_id": "f958bcf5586f41378c1a27e0a46f7e21",
       "version_major": 2,
       "version_minor": 0
      },
      "text/plain": [
       "  0%|          | 0/10 [00:00<?, ?it/s]"
      ]
     },
     "metadata": {},
     "output_type": "display_data"
    },
    {
     "ename": "KeyboardInterrupt",
     "evalue": "",
     "output_type": "error",
     "traceback": [
      "\u001b[0;31m---------------------------------------------------------------------------\u001b[0m",
      "\u001b[0;31mKeyboardInterrupt\u001b[0m                         Traceback (most recent call last)",
      "Cell \u001b[0;32mIn[7], line 8\u001b[0m\n\u001b[1;32m      6\u001b[0m \u001b[39mfor\u001b[39;00m fileName \u001b[39min\u001b[39;00m exceptFileNames:\n\u001b[1;32m      7\u001b[0m     \u001b[39mprint\u001b[39m(fileName)\n\u001b[0;32m----> 8\u001b[0m     accTotal\u001b[39m=\u001b[39mtest_average_sequence(fileName)\n\u001b[1;32m      9\u001b[0m     write_acc(\u001b[39m'\u001b[39m\u001b[39mresult.txt\u001b[39m\u001b[39m'\u001b[39m, fileName,accTotal)\n\u001b[1;32m     10\u001b[0m     \u001b[39mprint\u001b[39m(\u001b[39m'\u001b[39m\u001b[39m\\n\u001b[39;00m\u001b[39m'\u001b[39m)\n",
      "Cell \u001b[0;32mIn[5], line 43\u001b[0m, in \u001b[0;36mtest_average_sequence\u001b[0;34m(fileName)\u001b[0m\n\u001b[1;32m     41\u001b[0m accTotal \u001b[39m=\u001b[39m {\u001b[39m'\u001b[39m\u001b[39mmyTree_mc_rank\u001b[39m\u001b[39m'\u001b[39m:[],\u001b[39m'\u001b[39m\u001b[39mT_median_rank\u001b[39m\u001b[39m'\u001b[39m:[],\u001b[39m'\u001b[39m\u001b[39mmyTree_mc_edit\u001b[39m\u001b[39m'\u001b[39m:[],\u001b[39m'\u001b[39m\u001b[39mT_median_edit\u001b[39m\u001b[39m'\u001b[39m: []}\n\u001b[1;32m     42\u001b[0m \u001b[39mfor\u001b[39;00m i \u001b[39min\u001b[39;00m tqdm(\u001b[39mrange\u001b[39m(\u001b[39m0\u001b[39m, max_iter)):\n\u001b[0;32m---> 43\u001b[0m     res \u001b[39m=\u001b[39m test_sequence(fileName)\n\u001b[1;32m     45\u001b[0m     \u001b[39mfor\u001b[39;00m key \u001b[39min\u001b[39;00m accTotal\u001b[39m.\u001b[39mkeys():\n\u001b[1;32m     46\u001b[0m         \u001b[39mif\u001b[39;00m \u001b[39mlen\u001b[39m(res[key]) \u001b[39m!=\u001b[39m \u001b[39m0\u001b[39m:\n",
      "Cell \u001b[0;32mIn[5], line 38\u001b[0m, in \u001b[0;36mtest_sequence\u001b[0;34m(fileName)\u001b[0m\n\u001b[1;32m     36\u001b[0m     \u001b[39mreturn\u001b[39;00m tdu\u001b[39m.\u001b[39mtestSequenceDatasetUtils\u001b[39m.\u001b[39mtest_skating()\n\u001b[1;32m     37\u001b[0m \u001b[39melif\u001b[39;00m fileName\u001b[39m==\u001b[39msequenceFileNames[\u001b[39m10\u001b[39m]:\n\u001b[0;32m---> 38\u001b[0m     \u001b[39mreturn\u001b[39;00m tdu\u001b[39m.\u001b[39;49mtestSequenceDatasetUtils\u001b[39m.\u001b[39;49mtest_unix()\n",
      "File \u001b[0;32m~/study/my_research/decisionTree_Distance/DTforCurrency/testDatasetUtils.py:630\u001b[0m, in \u001b[0;36mtestSequenceDatasetUtils.test_unix\u001b[0;34m()\u001b[0m\n\u001b[1;32m    628\u001b[0m \u001b[39mdef\u001b[39;00m \u001b[39mtest_unix\u001b[39m():\n\u001b[1;32m    629\u001b[0m     constant\u001b[39m.\u001b[39m_init()\n\u001b[0;32m--> 630\u001b[0m     \u001b[39mreturn\u001b[39;00m testSequenceUtils\u001b[39m.\u001b[39;49mtest_sequence_contrast(\u001b[39m\"\u001b[39;49m\u001b[39m../dataset/sequence/unix.txt\u001b[39;49m\u001b[39m\"\u001b[39;49m)\n",
      "File \u001b[0;32m~/study/my_research/decisionTree_Distance/DTforCurrency/testUtils.py:174\u001b[0m, in \u001b[0;36mtestSequenceUtils.test_sequence_contrast\u001b[0;34m(filename)\u001b[0m\n\u001b[1;32m    171\u001b[0m T_median_rank\u001b[39m.\u001b[39mfit(indeices)\n\u001b[1;32m    172\u001b[0m acc[\u001b[39m'\u001b[39m\u001b[39mT_median_rank\u001b[39m\u001b[39m'\u001b[39m]\u001b[39m.\u001b[39mappend(T_median_rank\u001b[39m.\u001b[39mscore(X_test, y_test))\n\u001b[0;32m--> 174\u001b[0m constant\u001b[39m.\u001b[39mset_value(\u001b[39m'\u001b[39m\u001b[39mgl_distances\u001b[39m\u001b[39m'\u001b[39m, tools\u001b[39m.\u001b[39;49mcalcDistancesMetric(\u001b[39m'\u001b[39;49m\u001b[39msequence\u001b[39;49m\u001b[39m'\u001b[39;49m,\u001b[39m'\u001b[39;49m\u001b[39mlcstr\u001b[39;49m\u001b[39m'\u001b[39;49m,X_train))\n\u001b[1;32m    176\u001b[0m t_edit \u001b[39m=\u001b[39m dt\u001b[39m.\u001b[39mDT_currency(dataType\u001b[39m=\u001b[39m\u001b[39m'\u001b[39m\u001b[39msequence\u001b[39m\u001b[39m'\u001b[39m,distanceMeasure\u001b[39m=\u001b[39m\u001b[39m'\u001b[39m\u001b[39mlcstr\u001b[39m\u001b[39m'\u001b[39m)\n\u001b[1;32m    177\u001b[0m indeices \u001b[39m=\u001b[39m [index \u001b[39mfor\u001b[39;00m index \u001b[39min\u001b[39;00m \u001b[39mrange\u001b[39m(\u001b[39mlen\u001b[39m(X_train))]\n",
      "File \u001b[0;32m~/study/my_research/decisionTree_Distance/DTforCurrency/tools.py:23\u001b[0m, in \u001b[0;36mcalcDistancesMetric\u001b[0;34m(dataType, distanceMeasure, X)\u001b[0m\n\u001b[1;32m     21\u001b[0m \u001b[39mfor\u001b[39;00m j \u001b[39min\u001b[39;00m \u001b[39mrange\u001b[39m(length):\n\u001b[1;32m     22\u001b[0m     \u001b[39mfor\u001b[39;00m i \u001b[39min\u001b[39;00m \u001b[39mrange\u001b[39m(j):\n\u001b[0;32m---> 23\u001b[0m         distances[i \u001b[39m+\u001b[39m ((j \u001b[39m-\u001b[39m \u001b[39m1\u001b[39m) \u001b[39m*\u001b[39m j \u001b[39m>>\u001b[39m \u001b[39m1\u001b[39m)] \u001b[39m=\u001b[39m calcDistance(dataType,distanceMeasure,X[i], X[j])\n\u001b[1;32m     24\u001b[0m \u001b[39mreturn\u001b[39;00m distances\n",
      "File \u001b[0;32m~/study/my_research/decisionTree_Distance/DTforCurrency/tools.py:37\u001b[0m, in \u001b[0;36mcalcDistance\u001b[0;34m(dataType, distanceMeasure, data1, data2)\u001b[0m\n\u001b[1;32m     35\u001b[0m         \u001b[39mreturn\u001b[39;00m __rankDistance(data1, data2)\n\u001b[1;32m     36\u001b[0m     \u001b[39melif\u001b[39;00m distanceMeasure\u001b[39m==\u001b[39m\u001b[39m'\u001b[39m\u001b[39mlcstr\u001b[39m\u001b[39m'\u001b[39m:\n\u001b[0;32m---> 37\u001b[0m         \u001b[39mreturn\u001b[39;00m __distance_measure_lcstr(data1, data2)\n\u001b[1;32m     38\u001b[0m \u001b[39melse\u001b[39;00m:\n\u001b[1;32m     39\u001b[0m     \u001b[39m# TODO\u001b[39;00m\n\u001b[1;32m     40\u001b[0m     \u001b[39mreturn\u001b[39;00m\n",
      "File \u001b[0;32m~/study/my_research/decisionTree_Distance/DTforCurrency/tools.py:100\u001b[0m, in \u001b[0;36m__distance_measure_lcstr\u001b[0;34m(seq1, seq2)\u001b[0m\n\u001b[1;32m     98\u001b[0m     \u001b[39mprint\u001b[39m(seq1, seq2)\n\u001b[1;32m     99\u001b[0m     similarity \u001b[39m=\u001b[39m \u001b[39mlen\u001b[39m(textdistance\u001b[39m.\u001b[39mlcsstr(seq1, seq2))\n\u001b[0;32m--> 100\u001b[0m similarity \u001b[39m=\u001b[39m \u001b[39mlen\u001b[39m(textdistance\u001b[39m.\u001b[39;49mlcsstr(seq1, seq2))\n\u001b[1;32m    101\u001b[0m distance \u001b[39m=\u001b[39m \u001b[39m1\u001b[39m \u001b[39m-\u001b[39m similarity \u001b[39m/\u001b[39m (\u001b[39mlen\u001b[39m(seq1) \u001b[39m+\u001b[39m \u001b[39mlen\u001b[39m(seq2))\n\u001b[1;32m    102\u001b[0m \u001b[39mreturn\u001b[39;00m distance\n",
      "File \u001b[0;32m~/Library/Python/3.9/lib/python/site-packages/textdistance/algorithms/sequence_based.py:136\u001b[0m, in \u001b[0;36mLCSStr.__call__\u001b[0;34m(self, *sequences)\u001b[0m\n\u001b[1;32m    134\u001b[0m \u001b[39mif\u001b[39;00m length \u001b[39m==\u001b[39m \u001b[39m2\u001b[39m \u001b[39mand\u001b[39;00m \u001b[39mmax\u001b[39m(\u001b[39mmap\u001b[39m(\u001b[39mlen\u001b[39m, sequences)) \u001b[39m<\u001b[39m \u001b[39m200\u001b[39m:\n\u001b[1;32m    135\u001b[0m     \u001b[39mreturn\u001b[39;00m \u001b[39mself\u001b[39m\u001b[39m.\u001b[39m_standart(\u001b[39m*\u001b[39msequences)\n\u001b[0;32m--> 136\u001b[0m \u001b[39mreturn\u001b[39;00m \u001b[39mself\u001b[39;49m\u001b[39m.\u001b[39;49m_custom(\u001b[39m*\u001b[39;49msequences)\n",
      "File \u001b[0;32m~/Library/Python/3.9/lib/python/site-packages/textdistance/algorithms/sequence_based.py:114\u001b[0m, in \u001b[0;36mLCSStr._custom\u001b[0;34m(self, *sequences)\u001b[0m\n\u001b[1;32m    112\u001b[0m length \u001b[39m=\u001b[39m \u001b[39mlen\u001b[39m(short)\n\u001b[1;32m    113\u001b[0m \u001b[39mfor\u001b[39;00m n \u001b[39min\u001b[39;00m \u001b[39mrange\u001b[39m(length, \u001b[39m0\u001b[39m, \u001b[39m-\u001b[39m\u001b[39m1\u001b[39m):\n\u001b[0;32m--> 114\u001b[0m     \u001b[39mfor\u001b[39;00m subseq \u001b[39min\u001b[39;00m find_ngrams(short, n):\n\u001b[1;32m    115\u001b[0m         joined \u001b[39m=\u001b[39m \u001b[39m'\u001b[39m\u001b[39m'\u001b[39m\u001b[39m.\u001b[39mjoin(subseq)\n\u001b[1;32m    116\u001b[0m         \u001b[39mfor\u001b[39;00m seq \u001b[39min\u001b[39;00m sequences:\n",
      "File \u001b[0;32m~/Library/Python/3.9/lib/python/site-packages/textdistance/utils.py:27\u001b[0m, in \u001b[0;36mfind_ngrams\u001b[0;34m(input_list, n)\u001b[0m\n\u001b[1;32m     26\u001b[0m \u001b[39mdef\u001b[39;00m \u001b[39mfind_ngrams\u001b[39m(input_list: Sequence, n: \u001b[39mint\u001b[39m) \u001b[39m-\u001b[39m\u001b[39m>\u001b[39m \u001b[39mlist\u001b[39m[\u001b[39mtuple\u001b[39m]:\n\u001b[0;32m---> 27\u001b[0m     \u001b[39mreturn\u001b[39;00m \u001b[39mlist\u001b[39m(\u001b[39mzip\u001b[39m(\u001b[39m*\u001b[39m[input_list[i:] \u001b[39mfor\u001b[39;00m i \u001b[39min\u001b[39;00m \u001b[39mrange\u001b[39m(n)]))\n",
      "File \u001b[0;32m~/Library/Python/3.9/lib/python/site-packages/textdistance/utils.py:27\u001b[0m, in \u001b[0;36m<listcomp>\u001b[0;34m(.0)\u001b[0m\n\u001b[1;32m     26\u001b[0m \u001b[39mdef\u001b[39;00m \u001b[39mfind_ngrams\u001b[39m(input_list: Sequence, n: \u001b[39mint\u001b[39m) \u001b[39m-\u001b[39m\u001b[39m>\u001b[39m \u001b[39mlist\u001b[39m[\u001b[39mtuple\u001b[39m]:\n\u001b[0;32m---> 27\u001b[0m     \u001b[39mreturn\u001b[39;00m \u001b[39mlist\u001b[39m(\u001b[39mzip\u001b[39m(\u001b[39m*\u001b[39m[input_list[i:] \u001b[39mfor\u001b[39;00m i \u001b[39min\u001b[39;00m \u001b[39mrange\u001b[39m(n)]))\n",
      "\u001b[0;31mKeyboardInterrupt\u001b[0m: "
     ]
    }
   ],
   "source": [
    "exceptFileNames = [\n",
    "    # 'robot',\n",
    "    'skating',\n",
    "    'unix'\n",
    "]\n",
    "for fileName in exceptFileNames:\n",
    "    print(fileName)\n",
    "    accTotal=test_average_sequence(fileName)\n",
    "    write_acc('result.txt', fileName,accTotal)\n",
    "    print('\\n')"
   ]
  },
  {
   "cell_type": "code",
   "execution_count": 5,
   "metadata": {},
   "outputs": [
    {
     "name": "stdout",
     "output_type": "stream",
     "text": [
      "unix\n"
     ]
    },
    {
     "data": {
      "application/vnd.jupyter.widget-view+json": {
       "model_id": "593de8ca558d49d098a62a03b1c98a50",
       "version_major": 2,
       "version_minor": 0
      },
      "text/plain": [
       "  0%|          | 0/10 [00:00<?, ?it/s]"
      ]
     },
     "metadata": {},
     "output_type": "display_data"
    },
    {
     "name": "stdout",
     "output_type": "stream",
     "text": [
      "average-myTree_mc_rank: 0.760\n",
      "average-T_median_rank: 0.741\n",
      "average-myTree_mc_edit: 0.765\n",
      "average-T_median_edit: 0.756\n",
      "\n",
      "\n"
     ]
    }
   ],
   "source": [
    "finalFileNames = [\n",
    "    # 'robot',\n",
    "    'unix'\n",
    "]\n",
    "for fileName in finalFileNames:\n",
    "    print(fileName)\n",
    "    accTotal=test_average_sequence(fileName)\n",
    "    write_acc('robot.csv', fileName,accTotal)\n",
    "    print('\\n')"
   ]
  }
 ],
 "metadata": {
  "kernelspec": {
   "display_name": "Python 3",
   "language": "python",
   "name": "python3"
  },
  "language_info": {
   "codemirror_mode": {
    "name": "ipython",
    "version": 3
   },
   "file_extension": ".py",
   "mimetype": "text/x-python",
   "name": "python",
   "nbconvert_exporter": "python",
   "pygments_lexer": "ipython3",
   "version": "3.9.6"
  },
  "orig_nbformat": 4
 },
 "nbformat": 4,
 "nbformat_minor": 2
}
