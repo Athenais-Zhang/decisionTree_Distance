{
 "cells": [
  {
   "cell_type": "code",
   "execution_count": 22,
   "metadata": {},
   "outputs": [],
   "source": [
    "import pandas as pd"
   ]
  },
  {
   "cell_type": "code",
   "execution_count": 28,
   "metadata": {},
   "outputs": [
    {
     "name": "stdout",
     "output_type": "stream",
     "text": [
      "       0   1      2     3   4      5   6     7     8     9     10   11   12  \\\n",
      "0    55.0  46    0.2  17.0  78   0.75  20  13.1  1700  50.5  36.4  0.0  0.0   \n",
      "1    55.0  46    0.3  15.0  80   0.75  20   6.6  1900  54.9  38.5  0.0  0.0   \n",
      "2    62.0  40  0.433  16.0  80      ?  30   6.5  1850  53.8  39.8  0.0  0.0   \n",
      "3    52.0  40    0.3  16.0  75  0.312  30   5.6  1467  55.6  38.8  0.0  0.0   \n",
      "4    50.0  46    0.3  17.0  80   0.75  30   0.0  2100  57.5  42.5  5.0  0.0   \n",
      "..    ...  ..    ...   ...  ..    ...  ..   ...   ...   ...   ...  ...  ...   \n",
      "534     ?  52      ?  18.0  82    1.0  25     ?  1880     ?     ?    ?    ?   \n",
      "535     ?   ?    0.2  16.1  76    0.5  34     ?  2100     ?     ?    ?    ?   \n",
      "536     ?   ?    0.3  16.5  70    1.0  34     ?  1903     ?     ?    ?    ?   \n",
      "537     ?  46  0.267  16.4  76    1.0  34     ?  1903     ?     ?    ?    ?   \n",
      "538     ?  46    0.2  14.2  75   0.75  25     ?  2050     ?     ?    ?    ?   \n",
      "\n",
      "      13   14    15  16      17   18      19  \n",
      "0    2.5  1.0  34.0  40   105.0  100    band  \n",
      "1    2.5  0.7  34.0  40   105.0  100  noband  \n",
      "2    2.8  0.9  40.0  40  103.87  100  noband  \n",
      "3    2.5  1.3  40.0  40  108.06  100  noband  \n",
      "4    2.3  0.6  35.0  40  106.67  100  noband  \n",
      "..   ...  ...   ...  ..     ...  ...     ...  \n",
      "534  1.0  1.0     ?  40   112.5  100    band  \n",
      "535  0.0  0.0     ?  40   110.0  100    band  \n",
      "536  2.7  2.8     ?  40   108.0  100    band  \n",
      "537  1.5  2.3     ?  40   108.0  100    band  \n",
      "538  2.5  1.0     ?  40   108.1  100    band  \n",
      "\n",
      "[539 rows x 20 columns]\n"
     ]
    }
   ],
   "source": [
    "f=open(r'./bands.dat',encoding='utf-8')\n",
    "sentimentlist = []\n",
    "for line in f:\n",
    "    s = line.strip().split(',')\n",
    "    sentimentlist.append(s)\n",
    "f.close()\n",
    "df_train=pd.DataFrame(sentimentlist)\n",
    "print(df_train)"
   ]
  },
  {
   "cell_type": "code",
   "execution_count": 29,
   "metadata": {},
   "outputs": [
    {
     "name": "stdout",
     "output_type": "stream",
     "text": [
      "28\n",
      "38\n",
      "18\n",
      "66\n",
      "43\n",
      "18\n",
      "37\n",
      "123\n",
      "83\n",
      "82\n",
      "116\n",
      "18\n",
      "5\n",
      "31\n",
      "30\n",
      "13\n",
      "8\n",
      "81\n",
      "4\n",
      "2\n"
     ]
    }
   ],
   "source": [
    "data=df_train.values\n",
    "for row in range(len(data[0])):\n",
    "    print(len(set(data[:,row])))"
   ]
  },
  {
   "cell_type": "code",
   "execution_count": null,
   "metadata": {},
   "outputs": [],
   "source": []
  }
 ],
 "metadata": {
  "kernelspec": {
   "display_name": "Python 3",
   "language": "python",
   "name": "python3"
  },
  "language_info": {
   "codemirror_mode": {
    "name": "ipython",
    "version": 3
   },
   "file_extension": ".py",
   "mimetype": "text/x-python",
   "name": "python",
   "nbconvert_exporter": "python",
   "pygments_lexer": "ipython3",
   "version": "3.9.6"
  },
  "orig_nbformat": 4
 },
 "nbformat": 4,
 "nbformat_minor": 2
}
