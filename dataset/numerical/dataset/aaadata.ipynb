{
 "cells": [
  {
   "cell_type": "code",
   "execution_count": null,
   "metadata": {
    "pycharm": {
     "is_executing": true
    }
   },
   "outputs": [],
   "source": [
    "import pandas as pd"
   ]
  },
  {
   "cell_type": "code",
   "execution_count": 2,
   "metadata": {},
   "outputs": [
    {
     "name": "stdout",
     "output_type": "stream",
     "text": [
      "         0      1      2      3      4      5      6  7\n",
      "0    0.213  0.554  0.207    0.0    0.0  0.749   0.22  1\n",
      "1    0.458  0.714  0.468  0.111  0.102  0.741  0.436  1\n",
      "2    0.102  0.518  0.111  0.056  0.022  0.506  0.086  1\n",
      "3    0.187  0.196  0.105  0.056  0.029  0.133  0.085  1\n",
      "4    0.236  0.804  0.289  0.111  0.066  0.756  0.241  1\n",
      "..     ...    ...    ...    ...    ...    ...    ... ..\n",
      "101  0.449  0.875  0.523  0.083  0.076   0.92  0.487  0\n",
      "102  0.102    0.0  0.022    0.0    0.0    0.0  0.017  0\n",
      "103  0.409  0.875  0.482  0.306  0.259  0.914  0.443  0\n",
      "104  0.427  0.804  0.474  0.056  0.048  0.836  0.437  0\n",
      "105  0.462  0.911  0.551  0.167  0.154  0.931    0.5  0\n",
      "\n",
      "[106 rows x 8 columns]\n"
     ]
    }
   ],
   "source": [
    "f=open(r'./banana.dat',encoding='utf-8')\n",
    "sentimentlist = []\n",
    "for line in f:\n",
    "    s = line.strip().split(',')\n",
    "    sentimentlist.append(s)\n",
    "f.close()\n",
    "df_train=pd.DataFrame(sentimentlist)\n",
    "print(df_train)"
   ]
  },
  {
   "cell_type": "code",
   "execution_count": 4,
   "metadata": {},
   "outputs": [
    {
     "name": "stdout",
     "output_type": "stream",
     "text": [
      "74\n",
      "41\n",
      "95\n",
      "39\n",
      "89\n",
      "93\n",
      "99\n",
      "2\n"
     ]
    }
   ],
   "source": [
    "data=df_train.values\n",
    "for row in range(len(data[0])):\n",
    "    print(len(set(data[:,row])))"
   ]
  },
  {
   "cell_type": "code",
   "execution_count": null,
   "metadata": {},
   "outputs": [],
   "source": []
  }
 ],
 "metadata": {
  "kernelspec": {
   "display_name": "Python 3",
   "language": "python",
   "name": "python3"
  },
  "language_info": {
   "codemirror_mode": {
    "name": "ipython",
    "version": 3
   },
   "file_extension": ".py",
   "mimetype": "text/x-python",
   "name": "python",
   "nbconvert_exporter": "python",
   "pygments_lexer": "ipython3",
   "version": "3.9.6"
  },
  "orig_nbformat": 4
 },
 "nbformat": 4,
 "nbformat_minor": 2
}
