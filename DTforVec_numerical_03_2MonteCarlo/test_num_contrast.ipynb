{
 "cells": [
  {
   "cell_type": "code",
   "execution_count": 1,
   "metadata": {},
   "outputs": [],
   "source": [
    "import numpy as np\n",
    "import pandas as pd\n",
    "from sklearn.model_selection import StratifiedKFold\n",
    "from sklearn.neighbors import NearestCentroid\n",
    "from sklearn.tree import DecisionTreeClassifier\n",
    "from sklearn.utils import shuffle"
   ]
  },
  {
   "cell_type": "code",
   "execution_count": null,
   "metadata": {},
   "outputs": [],
   "source": [
    "# from DTforVec_numerical_03_2MonteCarlo import predeal, constant, tools\n",
    "# from DTforVec_numerical_03_2MonteCarlo.DT_num_distance import DT_num_distance\n",
    "# from DTforVec_numerical_03_2MonteCarlo.DT_num_gini import DT_num_gini\n",
    "# from DTforVec_numerical_03_2MonteCarlo.DT_num_gini_monteCarlo import DT_num_gini_monteCarlo"
   ]
  },
  {
   "cell_type": "code",
   "execution_count": null,
   "metadata": {},
   "outputs": [],
   "source": [
    "# from predeal import *\n",
    "# import constant\n",
    "# from tools import *\n",
    "# from DT_num_distance import *\n",
    "# from DT_num_gini import *\n",
    "# from DT_num_gini_monteCarlo import *\n"
   ]
  },
  {
   "cell_type": "code",
   "execution_count": 2,
   "metadata": {},
   "outputs": [],
   "source": [
    "import predeal\n",
    "import constant\n",
    "import tools\n",
    "from DT_num_distance import *\n",
    "from DT_num_gini import *\n",
    "from DT_num_gini_monteCarlo import *\n"
   ]
  },
  {
   "cell_type": "code",
   "execution_count": 3,
   "metadata": {},
   "outputs": [],
   "source": [
    "def contrastExperiment_numerical(X, y, curDepth=0, maxLeafSize=1, meanWay=None, maxDepth=1000000000):\n",
    "    k = 5\n",
    "    skf = StratifiedKFold(n_splits=k, shuffle=True, random_state=None)\n",
    "    acc = {'myTree': [], 'myTree_mc':[],'T_median':[],'T_mean':[],'standard': [], 'nearestCentroid': []}\n",
    "    X_normalized = predeal.normalization(X)\n",
    "    for train_index, test_index in skf.split(X_normalized, y):\n",
    "        X_train_normalized, X_test_normalized = X[train_index], X[test_index]\n",
    "        y_train, y_test = y[train_index], y[test_index]\n",
    "        X_train_normalized, y_train = shuffle(X_train_normalized, y_train)\n",
    "\n",
    "        constant.set_value('gl_Xtrain', X_train_normalized)\n",
    "        constant.set_value('gl_ytrain', y_train)\n",
    "        constant.set_value('gl_distances', tools.calcDistancesMetric(X_train_normalized))\n",
    "\n",
    "        T_gini = DT_num_gini()\n",
    "        indeices = [index for index in range(len(X_train_normalized))]\n",
    "        T_gini.fit(indeices)\n",
    "        acc['myTree'].append(T_gini.score(X_test_normalized, y_test))\n",
    "\n",
    "        T_gini_mc = DT_num_gini_monteCarlo()\n",
    "        indeices = [index for index in range(len(X_train_normalized))]\n",
    "        T_gini_mc.fit(indeices)\n",
    "        acc['myTree_mc'].append(T_gini_mc.score(X_test_normalized, y_test))\n",
    "\n",
    "        T_median=DT_num_distance(curDepth=0, maxLeafSize=1, meanWay='MEDIAN', maxDepth=1000000000)\n",
    "        indeices = [index for index in range(len(X_train_normalized))]\n",
    "        T_median.fit(indeices=indeices)\n",
    "        acc['T_median'].append(T_median.score(X_test_normalized, y_test))\n",
    "\n",
    "        T_mean = DT_num_distance(curDepth=0, maxLeafSize=1, meanWay='MEAN', maxDepth=1000000000)\n",
    "        indeices = [index for index in range(len(X_train_normalized))]\n",
    "        T_mean.fit(indeices=indeices)\n",
    "        acc['T_mean'].append(T_mean.score(X_test_normalized, y_test))\n",
    "\n",
    "        standardTree = DecisionTreeClassifier()\n",
    "        standardTree.fit(X_train_normalized, y_train)\n",
    "        acc['standard'].append(standardTree.score(X_test_normalized, y_test))\n",
    "\n",
    "        ncd = NearestCentroid()\n",
    "        ncd.fit(X_train_normalized, y_train)\n",
    "        acc['nearestCentroid'].append(ncd.score(X_test_normalized, y_test))\n",
    "\n",
    "    return acc"
   ]
  },
  {
   "cell_type": "code",
   "execution_count": 4,
   "metadata": {},
   "outputs": [],
   "source": [
    "def printResult(acc):\n",
    "    print(acc)\n",
    "    # print('average-myTree: ', np.mean(acc['myTree']))\n",
    "    # print('average-T_mc: ', np.mean(acc['myTree_mc']))\n",
    "    # print('average-T_median: ', np.mean(acc['T_median']))\n",
    "    # print('average-standard: ', np.mean(acc['standard']))\n",
    "    # print('average-nearestCentroid: ', np.mean(acc['nearestCentroid']))\n",
    "    print('average-myTree: %.2f , the detail is %s ' %(np.mean(acc['myTree']),acc['myTree']))\n",
    "    print('average-myTree_mc: %.2f , the detail is %s ' % (np.mean(acc['myTree_mc']), acc['myTree_mc']))\n",
    "    print('average-T_median: %.2f , the detail is %s ' % (np.mean(acc['T_median']), acc['T_median']))\n",
    "    print('average-T_mean: %.2f , the detail is %s ' % (np.mean(acc['T_mean']), acc['T_mean']))\n",
    "    print('average-standard: %.2f , the detail is %s ' % (np.mean(acc['standard']), acc['standard']))\n",
    "    print('average-nearestCentroid: %.2f , the detail is %s ' % (np.mean(acc['nearestCentroid']), acc['nearestCentroid']))"
   ]
  },
  {
   "cell_type": "code",
   "execution_count": 5,
   "metadata": {},
   "outputs": [],
   "source": [
    "def test_iris(curDepth=0, maxLeafSize=1, meanWay='MEDIAN', maxDepth=1000000000):\n",
    "    print('iris')\n",
    "    constant._init()\n",
    "    from sklearn.datasets import load_iris\n",
    "    iris = load_iris()\n",
    "    X = iris.data\n",
    "    y = iris.target\n",
    "    print(X.shape)\n",
    "    acc=contrastExperiment_numerical(X, y, curDepth, maxLeafSize, meanWay, maxDepth)\n",
    "    printResult(acc)"
   ]
  },
  {
   "cell_type": "code",
   "execution_count": 6,
   "metadata": {},
   "outputs": [
    {
     "name": "stdout",
     "output_type": "stream",
     "text": [
      "iris\n",
      "(150, 4)\n"
     ]
    },
    {
     "data": {
      "application/vnd.jupyter.widget-view+json": {
       "model_id": "1ee69670b1d448148344482ca44f09da",
       "version_major": 2,
       "version_minor": 0
      },
      "text/plain": [
       "  0%|          | 0/120 [00:00<?, ?it/s]"
      ]
     },
     "metadata": {},
     "output_type": "display_data"
    },
    {
     "data": {
      "application/vnd.jupyter.widget-view+json": {
       "model_id": "fbb609b7fc3e4f2aa48a3790b2a71a24",
       "version_major": 2,
       "version_minor": 0
      },
      "text/plain": [
       "  0%|          | 0/120 [00:00<?, ?it/s]"
      ]
     },
     "metadata": {},
     "output_type": "display_data"
    },
    {
     "data": {
      "application/vnd.jupyter.widget-view+json": {
       "model_id": "d05dd71458e1476496f1cf4674001585",
       "version_major": 2,
       "version_minor": 0
      },
      "text/plain": [
       "  0%|          | 0/120 [00:00<?, ?it/s]"
      ]
     },
     "metadata": {},
     "output_type": "display_data"
    },
    {
     "data": {
      "application/vnd.jupyter.widget-view+json": {
       "model_id": "478281d5a1db4cb5b5b8e1c034fc4f77",
       "version_major": 2,
       "version_minor": 0
      },
      "text/plain": [
       "  0%|          | 0/120 [00:00<?, ?it/s]"
      ]
     },
     "metadata": {},
     "output_type": "display_data"
    },
    {
     "data": {
      "application/vnd.jupyter.widget-view+json": {
       "model_id": "fba72f4b5d944c58bf5514bc073bec0b",
       "version_major": 2,
       "version_minor": 0
      },
      "text/plain": [
       "  0%|          | 0/120 [00:00<?, ?it/s]"
      ]
     },
     "metadata": {},
     "output_type": "display_data"
    },
    {
     "name": "stdout",
     "output_type": "stream",
     "text": [
      "{'myTree': [0.9333333333333333, 0.8666666666666667, 0.9333333333333333, 0.9666666666666667, 0.9666666666666667], 'myTree_mc': [0.9333333333333333, 0.8666666666666667, 0.9666666666666667, 0.9666666666666667, 0.9666666666666667], 'T_median': [1.0, 0.9, 0.9, 0.9666666666666667, 0.9666666666666667], 'T_mean': [0.9666666666666667, 0.8666666666666667, 0.9666666666666667, 1.0, 0.9666666666666667], 'standard': [0.9666666666666667, 0.8666666666666667, 0.9666666666666667, 0.9666666666666667, 0.9666666666666667], 'nearestCentroid': [0.9666666666666667, 0.9, 0.9666666666666667, 0.8333333333333334, 0.9666666666666667]}\n",
      "average-myTree: 0.93 , the detail is [0.9333333333333333, 0.8666666666666667, 0.9333333333333333, 0.9666666666666667, 0.9666666666666667] \n",
      "average-myTree_mc: 0.94 , the detail is [0.9333333333333333, 0.8666666666666667, 0.9666666666666667, 0.9666666666666667, 0.9666666666666667] \n",
      "average-T_median: 0.95 , the detail is [1.0, 0.9, 0.9, 0.9666666666666667, 0.9666666666666667] \n",
      "average-T_mean: 0.95 , the detail is [0.9666666666666667, 0.8666666666666667, 0.9666666666666667, 1.0, 0.9666666666666667] \n",
      "average-standard: 0.95 , the detail is [0.9666666666666667, 0.8666666666666667, 0.9666666666666667, 0.9666666666666667, 0.9666666666666667] \n",
      "average-nearestCentroid: 0.93 , the detail is [0.9666666666666667, 0.9, 0.9666666666666667, 0.8333333333333334, 0.9666666666666667] \n"
     ]
    }
   ],
   "source": [
    "test_iris()"
   ]
  }
 ],
 "metadata": {
  "kernelspec": {
   "display_name": "Python 3",
   "language": "python",
   "name": "python3"
  },
  "language_info": {
   "codemirror_mode": {
    "name": "ipython",
    "version": 3
   },
   "file_extension": ".py",
   "mimetype": "text/x-python",
   "name": "python",
   "nbconvert_exporter": "python",
   "pygments_lexer": "ipython3",
   "version": "3.9.6"
  },
  "orig_nbformat": 4
 },
 "nbformat": 4,
 "nbformat_minor": 2
}
