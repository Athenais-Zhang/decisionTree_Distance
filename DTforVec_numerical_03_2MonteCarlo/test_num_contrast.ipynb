{
 "cells": [
  {
   "cell_type": "code",
   "execution_count": 1,
   "metadata": {},
   "outputs": [],
   "source": [
    "import numpy as np\n",
    "import pandas as pd\n",
    "from sklearn.model_selection import StratifiedKFold\n",
    "from sklearn.neighbors import NearestCentroid\n",
    "from sklearn.tree import DecisionTreeClassifier\n",
    "from sklearn.utils import shuffle"
   ]
  },
  {
   "cell_type": "code",
   "execution_count": null,
   "metadata": {},
   "outputs": [],
   "source": [
    "# from DTforVec_numerical_03_2MonteCarlo import predeal, constant, tools\n",
    "# from DTforVec_numerical_03_2MonteCarlo.DT_num_distance import DT_num_distance\n",
    "# from DTforVec_numerical_03_2MonteCarlo.DT_num_gini import DT_num_gini\n",
    "# from DTforVec_numerical_03_2MonteCarlo.DT_num_gini_monteCarlo import DT_num_gini_monteCarlo"
   ]
  },
  {
   "cell_type": "code",
   "execution_count": null,
   "metadata": {},
   "outputs": [],
   "source": [
    "# from predeal import *\n",
    "# import constant\n",
    "# from tools import *\n",
    "# from DT_num_distance import *\n",
    "# from DT_num_gini import *\n",
    "# from DT_num_gini_monteCarlo import *\n"
   ]
  },
  {
   "cell_type": "code",
   "execution_count": 2,
   "metadata": {},
   "outputs": [],
   "source": [
    "import predeal\n",
    "import constant\n",
    "import tools\n",
    "from DT_num_distance import *\n",
    "from DT_num_gini import *\n",
    "from DT_num_gini_monteCarlo import *\n"
   ]
  },
  {
   "cell_type": "code",
   "execution_count": 3,
   "metadata": {},
   "outputs": [],
   "source": [
    "def contrastExperiment_numerical(X, y, curDepth=0, maxLeafSize=1, meanWay=None, maxDepth=1000000000):\n",
    "    k = 5\n",
    "    skf = StratifiedKFold(n_splits=k, shuffle=True, random_state=None)\n",
    "    acc = {'myTree': [], 'myTree_mc':[],'T_median':[],'T_mean':[],'standard': [], 'nearestCentroid': []}\n",
    "    X_normalized = predeal.normalization(X)\n",
    "    for train_index, test_index in skf.split(X_normalized, y):\n",
    "        X_train_normalized, X_test_normalized = X[train_index], X[test_index]\n",
    "        y_train, y_test = y[train_index], y[test_index]\n",
    "        X_train_normalized, y_train = shuffle(X_train_normalized, y_train)\n",
    "\n",
    "        constant.set_value('gl_Xtrain', X_train_normalized)\n",
    "        constant.set_value('gl_ytrain', y_train)\n",
    "        constant.set_value('gl_distances', tools.calcDistancesMetric(X_train_normalized))\n",
    "\n",
    "        T_gini = DT_num_gini()\n",
    "        indeices = [index for index in range(len(X_train_normalized))]\n",
    "        T_gini.fit(indeices)\n",
    "        acc['myTree'].append(T_gini.score(X_test_normalized, y_test))\n",
    "\n",
    "        T_gini_mc = DT_num_gini_monteCarlo()\n",
    "        indeices = [index for index in range(len(X_train_normalized))]\n",
    "        T_gini_mc.fit(indeices)\n",
    "        acc['myTree_mc'].append(T_gini_mc.score(X_test_normalized, y_test))\n",
    "\n",
    "        T_median=DT_num_distance(curDepth=0, maxLeafSize=1, meanWay='MEDIAN', maxDepth=1000000000)\n",
    "        indeices = [index for index in range(len(X_train_normalized))]\n",
    "        T_median.fit(indeices=indeices)\n",
    "        acc['T_median'].append(T_median.score(X_test_normalized, y_test))\n",
    "\n",
    "        T_mean = DT_num_distance(curDepth=0, maxLeafSize=1, meanWay='MEAN', maxDepth=1000000000)\n",
    "        indeices = [index for index in range(len(X_train_normalized))]\n",
    "        T_mean.fit(indeices=indeices)\n",
    "        acc['T_mean'].append(T_mean.score(X_test_normalized, y_test))\n",
    "\n",
    "        standardTree = DecisionTreeClassifier()\n",
    "        standardTree.fit(X_train_normalized, y_train)\n",
    "        acc['standard'].append(standardTree.score(X_test_normalized, y_test))\n",
    "\n",
    "        ncd = NearestCentroid()\n",
    "        ncd.fit(X_train_normalized, y_train)\n",
    "        acc['nearestCentroid'].append(ncd.score(X_test_normalized, y_test))\n",
    "\n",
    "    return acc"
   ]
  },
  {
   "cell_type": "code",
   "execution_count": 4,
   "metadata": {},
   "outputs": [],
   "source": [
    "def printResult(acc):\n",
    "    print(acc)\n",
    "    # print('average-myTree: ', np.mean(acc['myTree']))\n",
    "    # print('average-T_mc: ', np.mean(acc['myTree_mc']))\n",
    "    # print('average-T_median: ', np.mean(acc['T_median']))\n",
    "    # print('average-standard: ', np.mean(acc['standard']))\n",
    "    # print('average-nearestCentroid: ', np.mean(acc['nearestCentroid']))\n",
    "    print('average-myTree: %.2f , the detail is %s ' %(np.mean(acc['myTree']),acc['myTree']))\n",
    "    print('average-myTree_mc: %.2f , the detail is %s ' % (np.mean(acc['myTree_mc']), acc['myTree_mc']))\n",
    "    print('average-T_median: %.2f , the detail is %s ' % (np.mean(acc['T_median']), acc['T_median']))\n",
    "    print('average-T_mean: %.2f , the detail is %s ' % (np.mean(acc['T_mean']), acc['T_mean']))\n",
    "    print('average-standard: %.2f , the detail is %s ' % (np.mean(acc['standard']), acc['standard']))\n",
    "    print('average-nearestCentroid: %.2f , the detail is %s ' % (np.mean(acc['nearestCentroid']), acc['nearestCentroid']))"
   ]
  },
  {
   "cell_type": "code",
   "execution_count": 5,
   "metadata": {},
   "outputs": [],
   "source": [
    "def test_iris(curDepth=0, maxLeafSize=1, meanWay='MEDIAN', maxDepth=1000000000):\n",
    "    print('iris')\n",
    "    constant._init()\n",
    "    from sklearn.datasets import load_iris\n",
    "    iris = load_iris()\n",
    "    X = iris.data\n",
    "    y = iris.target\n",
    "    print(X.shape)\n",
    "    acc=contrastExperiment_numerical(X, y, curDepth, maxLeafSize, meanWay, maxDepth)\n",
    "    printResult(acc)"
   ]
  },
  {
   "cell_type": "code",
   "execution_count": 6,
   "metadata": {},
   "outputs": [
    {
     "name": "stdout",
     "output_type": "stream",
     "text": [
      "iris\n",
      "(150, 4)\n"
     ]
    },
    {
     "data": {
      "application/vnd.jupyter.widget-view+json": {
       "model_id": "5e99b9b82c854cbdb2cb29836eaca2db",
       "version_major": 2,
       "version_minor": 0
      },
      "text/plain": [
       "  0%|          | 0/120 [00:00<?, ?it/s]"
      ]
     },
     "metadata": {},
     "output_type": "display_data"
    },
    {
     "ename": "NameError",
     "evalue": "name 'constant' is not defined",
     "output_type": "error",
     "traceback": [
      "\u001b[0;31m---------------------------------------------------------------------------\u001b[0m",
      "\u001b[0;31mNameError\u001b[0m                                 Traceback (most recent call last)",
      "Cell \u001b[0;32mIn[6], line 1\u001b[0m\n\u001b[0;32m----> 1\u001b[0m test_iris()\n",
      "Cell \u001b[0;32mIn[5], line 9\u001b[0m, in \u001b[0;36mtest_iris\u001b[0;34m(curDepth, maxLeafSize, meanWay, maxDepth)\u001b[0m\n\u001b[1;32m      7\u001b[0m y \u001b[39m=\u001b[39m iris\u001b[39m.\u001b[39mtarget\n\u001b[1;32m      8\u001b[0m \u001b[39mprint\u001b[39m(X\u001b[39m.\u001b[39mshape)\n\u001b[0;32m----> 9\u001b[0m acc\u001b[39m=\u001b[39mcontrastExperiment_numerical(X, y, curDepth, maxLeafSize, meanWay, maxDepth)\n\u001b[1;32m     10\u001b[0m printResult(acc)\n",
      "Cell \u001b[0;32mIn[3], line 17\u001b[0m, in \u001b[0;36mcontrastExperiment_numerical\u001b[0;34m(X, y, curDepth, maxLeafSize, meanWay, maxDepth)\u001b[0m\n\u001b[1;32m     15\u001b[0m T_gini \u001b[39m=\u001b[39m DT_num_gini()\n\u001b[1;32m     16\u001b[0m indeices \u001b[39m=\u001b[39m [index \u001b[39mfor\u001b[39;00m index \u001b[39min\u001b[39;00m \u001b[39mrange\u001b[39m(\u001b[39mlen\u001b[39m(X_train_normalized))]\n\u001b[0;32m---> 17\u001b[0m T_gini\u001b[39m.\u001b[39;49mfit(indeices)\n\u001b[1;32m     18\u001b[0m acc[\u001b[39m'\u001b[39m\u001b[39mmyTree\u001b[39m\u001b[39m'\u001b[39m]\u001b[39m.\u001b[39mappend(T_gini\u001b[39m.\u001b[39mscore(X_test_normalized, y_test))\n\u001b[1;32m     20\u001b[0m T_gini_mc \u001b[39m=\u001b[39m DT_num_gini_monteCarlo()\n",
      "File \u001b[0;32m~/study/my research/decisionTree_Distance/DTforVec_numerical_03_2MonteCarlo/DT_num_gini.py:95\u001b[0m, in \u001b[0;36mDT_num_gini.fit\u001b[0;34m(self, indeices, cate, represent)\u001b[0m\n\u001b[1;32m     92\u001b[0m represents \u001b[39m=\u001b[39m curRepresents\u001b[39m.\u001b[39mcopy()\n\u001b[1;32m     94\u001b[0m \u001b[39m# step3:计算初始分支结果并暂存\u001b[39;00m\n\u001b[0;32m---> 95\u001b[0m sum_gini, giniIndeies, partitionResult \u001b[39m=\u001b[39m \u001b[39mself\u001b[39;49m\u001b[39m.\u001b[39;49m__calcBranches(cates, curRepresents, indeices)\n\u001b[1;32m     97\u001b[0m \u001b[39m# step4:迭代所有点为中心\u001b[39;00m\n\u001b[1;32m     98\u001b[0m \u001b[39mfor\u001b[39;00m cate \u001b[39min\u001b[39;00m cates:\n",
      "File \u001b[0;32m~/study/my research/decisionTree_Distance/DTforVec_numerical_03_2MonteCarlo/DT_num_gini.py:43\u001b[0m, in \u001b[0;36mDT_num_gini.__calcBranches\u001b[0;34m(self, cates, represents, indeices)\u001b[0m\n\u001b[1;32m     41\u001b[0m minDis \u001b[39m=\u001b[39m np\u001b[39m.\u001b[39minf\n\u001b[1;32m     42\u001b[0m \u001b[39mfor\u001b[39;00m cate \u001b[39min\u001b[39;00m cates:\n\u001b[0;32m---> 43\u001b[0m     dis \u001b[39m=\u001b[39m tools\u001b[39m.\u001b[39;49mgetDistance(index, represents[cate])\n\u001b[1;32m     44\u001b[0m     \u001b[39mif\u001b[39;00m dis \u001b[39m<\u001b[39m minDis:\n\u001b[1;32m     45\u001b[0m         minDis \u001b[39m=\u001b[39m dis\n",
      "File \u001b[0;32m~/study/my research/decisionTree_Distance/DTforVec_numerical_03_2MonteCarlo/tools.py:35\u001b[0m, in \u001b[0;36mgetDistance\u001b[0;34m(index1, index2)\u001b[0m\n\u001b[1;32m     34\u001b[0m \u001b[39mdef\u001b[39;00m \u001b[39mgetDistance\u001b[39m(index1,index2):\n\u001b[0;32m---> 35\u001b[0m     gl_distances \u001b[39m=\u001b[39m constant\u001b[39m.\u001b[39mget_value(\u001b[39m'\u001b[39m\u001b[39mgl_distances\u001b[39m\u001b[39m'\u001b[39m)\n\u001b[1;32m     36\u001b[0m     i \u001b[39m=\u001b[39m \u001b[39mmin\u001b[39m(index1,index2)\n\u001b[1;32m     37\u001b[0m     j \u001b[39m=\u001b[39m \u001b[39mmax\u001b[39m(index1,index2)\n",
      "\u001b[0;31mNameError\u001b[0m: name 'constant' is not defined"
     ]
    }
   ],
   "source": [
    "test_iris()"
   ]
  }
 ],
 "metadata": {
  "kernelspec": {
   "display_name": "Python 3",
   "language": "python",
   "name": "python3"
  },
  "language_info": {
   "codemirror_mode": {
    "name": "ipython",
    "version": 3
   },
   "file_extension": ".py",
   "mimetype": "text/x-python",
   "name": "python",
   "nbconvert_exporter": "python",
   "pygments_lexer": "ipython3",
   "version": "3.9.6"
  },
  "orig_nbformat": 4
 },
 "nbformat": 4,
 "nbformat_minor": 2
}
